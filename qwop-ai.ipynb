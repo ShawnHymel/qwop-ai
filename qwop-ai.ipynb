{
 "cells": [
  {
   "cell_type": "markdown",
   "id": "d6245fca-df28-43b4-b886-b199710201b5",
   "metadata": {},
   "source": [
    "# QWOP AI\n",
    "\n",
    "Direct screen capture for observation. Make sure QWOP is in Chrome and window is resized just before scroll bars appear. Place window in top-left of screen. Note that this project is intended to be run *locally* on a computer where you can easily set up the game window for screen capture.\n",
    "\n",
    "Based on the \"Build a Chrome Dino Game AI Model with Python\" video by Nicholas Renotte: https://www.youtube.com/watch?v=vahwuupy81A"
   ]
  },
  {
   "cell_type": "markdown",
   "id": "791dfbbf-b0bf-4937-bc51-bb17d6acc2b9",
   "metadata": {},
   "source": [
    "## Install dependencies\n",
    "\n",
    "### Prerequisites\n",
    "\n",
    "You will need to install OpenCV. The easiest way to do this is from the Anaconda environment. The newest version might work, but 4.7.0 worked for this notebook. You will also need [tesserocr](https://pypi.org/project/tesserocr/) for doing optical character recognition (OCR). Version 2.5.2 was verified working for this notebook.\n",
    "\n",
    "```\n",
    "conda install -c conda-forge opencv=4.7.0 tesserocr=2.5.2\n",
    "```\n",
    "\n",
    "Finally, you will need to install PyTorch for Stable Baselines3 to work. It is highly recommended that you use the GPU-enabled version of PyTorch for faster training. Follow the directions here: https://pytorch.org/get-started/locally/. This notebook was tested with the following:\n",
    " * PyTorch v2.0.0\n",
    " * OS: Windows\n",
    " * Package: Conda\n",
    " * Language: Python\n",
    " * Compute platform: CUDA 11.7\n",
    "\n",
    "### Install packages\n",
    "\n",
    "Uncomment the following cells to install the required packages. Note the versions on some of them. Gymnasium and Stable-Baselines3 change constantly, so I tried to version-lock these packages, as these are known to work with this notebook. Starting with v2.0.0, Stable-Baselines3 will only support gymnasium (and drop gym support). See [here](https://github.com/DLR-RM/stable-baselines3/releases/tag/v1.8.0) for more information."
   ]
  },
  {
   "cell_type": "code",
   "execution_count": 2,
   "id": "88747836-3b50-46fb-bd84-0881481583d9",
   "metadata": {},
   "outputs": [],
   "source": [
    "# !python -m pip install mss pynput \n",
    "# !python -m pip install gymnasium==0.28.1\n",
    "# !python -m pip install stable-baselines3[extra]==2.0.0a1\n",
    "# !python -m pip install wandb"
   ]
  },
  {
   "cell_type": "markdown",
   "id": "1d5593f1-e172-4279-8554-cae1e994110e",
   "metadata": {
    "tags": []
   },
   "source": [
    "## Configuration"
   ]
  },
  {
   "cell_type": "code",
   "execution_count": 13,
   "id": "76b5678e-92c8-42b3-9f43-855c2eba6dde",
   "metadata": {},
   "outputs": [],
   "source": [
    "### Import libraries\n",
    "\n",
    "# Screen capture\n",
    "from mss import mss\n",
    "\n",
    "# Sending commands (e.g. mouse/keyboard)\n",
    "import pynput\n",
    "\n",
    "# OpenCV for image manipulation\n",
    "import cv2\n",
    "\n",
    "# Optical character recognition (OCR)\n",
    "import tesserocr\n",
    "from PIL import Image\n",
    "\n",
    "# Farama Foundation Gymnasium (fork of OpenAI gym)\n",
    "import gymnasium as gym\n",
    "\n",
    "# Reinforcement model modules\n",
    "from stable_baselines3.common import env_checker\n",
    "from stable_baselines3.common.callbacks import BaseCallback\n",
    "from stable_baselines3.common.logger import KVWriter, Logger\n",
    "from stable_baselines3 import PPO\n",
    "\n",
    "# Weights & Biases for remote logging\n",
    "import wandb\n",
    "\n",
    "# Other\n",
    "import time\n",
    "import datetime\n",
    "import os\n",
    "import numpy as np\n",
    "from matplotlib import pyplot as plt\n",
    "from typing import Any, Dict, Tuple, Union"
   ]
  },
  {
   "cell_type": "code",
   "execution_count": 6,
   "id": "ab8d0b37-dbcd-44fe-bb09-19ffa3cf46f7",
   "metadata": {},
   "outputs": [],
   "source": [
    "### Settings\n",
    "\n",
    "# Game observation\n",
    "GAME_CROP = {\n",
    "    'top':430, \n",
    "    'left':300, \n",
    "    'width':480, \n",
    "    'height':320\n",
    "}\n",
    "\n",
    "# Image resize (minimum of 36x36 for default CnnPolicies)\n",
    "GAME_RESIZE_WIDTH = 36\n",
    "GAME_RESIZE_HEIGHT = 36\n",
    "\n",
    "# How big to make display image (0 for no display)\n",
    "DISP_SCALE_FACTOR = 8.0\n",
    "\n",
    "# Where to find the head/hair in the scaled game image\n",
    "HEAD_ROW_MIN = 2\n",
    "HEAD_ROW_MAX = 25\n",
    "HEAD_PIXEL_THRESHOLD = 34\n",
    "HEAD_HEIGHT_THRESHOLD = 9\n",
    "\n",
    "# Score observation\n",
    "SCORE_CROP = {\n",
    "    'top':395, \n",
    "    'left':342, \n",
    "    'width':380, \n",
    "    'height':42\n",
    "}\n",
    "\n",
    "# Game over screen\n",
    "DONE_CROP = {\n",
    "    'top':635, \n",
    "    'left':430, \n",
    "    'width':220, \n",
    "    'height':38}\n",
    "GAME_OVER_STRINGS = [\"press\"]\n",
    "\n",
    "# Action settings\n",
    "RESTART_MOUSE_POS = (300, 600)\n",
    "RESTART_KEY = 'r'\n",
    "ACTIONS_KEY_PRESS_TIME = 0.05\n",
    "ACTIONS_MAP = {\n",
    "    0: 'no-op',\n",
    "    1: 'press q',\n",
    "    2: 'press w',\n",
    "    3: 'press o',\n",
    "    4: 'press p',\n",
    "    5: 'release q',\n",
    "    6: 'release w',\n",
    "    7: 'release o',\n",
    "    8: 'release p'\n",
    "}\n",
    "\n",
    "# Reward settings\n",
    "FALL_REWARD = -100\n",
    "KNEEL_REWARD = -1\n",
    "\n",
    "# CnnPolicy requires 8-bit unsigned integers for images\n",
    "DTYPE = np.uint8\n",
    "\n",
    "# Checkpoint config\n",
    "CHECKPOINT_DIR = \"checkpoints\"\n",
    "CHECKPOINT_FREQ = 5_000\n",
    "\n",
    "# Log config\n",
    "LOG_DIR = \"logs\"\n",
    "LOG_FREQ = 1_000\n",
    "\n",
    "# Weights & Biases configuratino\n",
    "WANDB_PROJECT = \"qwop\""
   ]
  },
  {
   "cell_type": "markdown",
   "id": "530b2e8c-f906-45f7-bf9b-a2427e651df1",
   "metadata": {
    "tags": []
   },
   "source": [
    "## Test Screen Capture\n",
    "\n",
    "Figure out how to set the crops and OCR."
   ]
  },
  {
   "cell_type": "code",
   "execution_count": 7,
   "id": "bb1639d6-b4ea-4456-be68-b566f7a86530",
   "metadata": {},
   "outputs": [],
   "source": [
    "### Create screen capture object\n",
    "screen = mss()"
   ]
  },
  {
   "cell_type": "code",
   "execution_count": 8,
   "id": "6288f508-1fee-4b57-9aaf-fbf892c9c973",
   "metadata": {},
   "outputs": [
    {
     "name": "stdout",
     "output_type": "stream",
     "text": [
      "Shape: (1, 36, 36)\n",
      "Example row: [ 79  79  79  74  74  74  74  74  74  74  74  74  74  74  74  74  74  74\n",
      "  74  74  74  74  74  74  74  74  74  79  79  79 176 195 172  83 178 195]\n"
     ]
    },
    {
     "data": {
      "image/png": "[encoded data removed]",
      "text/plain": [
       "<Figure size 640x480 with 1 Axes>"
      ]
     },
     "metadata": {},
     "output_type": "display_data"
    }
   ],
   "source": [
    "### Do screen grab and preprocess (make sure runner and some distance ahead is visible)\n",
    "\n",
    "# Get screen grab and drop alpha channel\n",
    "game_img = screen.grab(GAME_CROP)\n",
    "game_img = np.array(game_img)[:, :, :3]\n",
    "\n",
    "# Convert to grayscale and resize\n",
    "game_img = cv2.cvtColor(game_img, cv2.COLOR_BGR2GRAY)\n",
    "game_img = cv2.resize(game_img, (GAME_RESIZE_WIDTH, GAME_RESIZE_HEIGHT))\n",
    "\n",
    "# Add channel dimension first (in case you want RGB later)\n",
    "game_img = np.reshape(game_img, (1, GAME_RESIZE_HEIGHT, GAME_RESIZE_WIDTH))\n",
    "\n",
    "# Show crop/resized\n",
    "print(f\"Shape: {game_img.shape}\")\n",
    "print(f\"Example row: {game_img[0, 0, :]}\")\n",
    "plt.imshow(game_img[0], cmap='gray', vmin=0, vmax=255)\n",
    "\n",
    "# Try showing image in new window\n",
    "if DISP_SCALE_FACTOR > 0:\n",
    "    disp_width = int(GAME_RESIZE_WIDTH * DISP_SCALE_FACTOR)\n",
    "    disp_height = int(GAME_RESIZE_HEIGHT * DISP_SCALE_FACTOR)\n",
    "    disp_img = cv2.resize(game_img[0], (disp_width, disp_height), interpolation=cv2.INTER_AREA)\n",
    "    cv2.namedWindow('Game Image')\n",
    "    cv2.imshow('Game Image', disp_img)\n",
    "    cv2.waitKey(2000)\n",
    "    cv2.destroyAllWindows()"
   ]
  },
  {
   "cell_type": "code",
   "execution_count": 9,
   "id": "e8f41e36-6eb0-4df8-962e-fd070e19de2d",
   "metadata": {},
   "outputs": [
    {
     "name": "stdout",
     "output_type": "stream",
     "text": [
      "Pixels below color threshold: (array([ 7,  8,  9, 10, 10, 11, 11, 12, 12, 12, 13, 13, 13, 14, 14],\n",
      "      dtype=int64), array([29, 29, 29, 29, 30, 29, 30, 29, 30, 31, 29, 30, 31, 29, 30],\n",
      "      dtype=int64))\n",
      "Rows must be offset: [ 9 10 11 12 12 13 13 14 14 14 15 15 15 16 16]\n",
      "Head at row 9\n"
     ]
    }
   ],
   "source": [
    "### Use scaled game image to find head height\n",
    "\n",
    "# Print a few rows to see values\n",
    "# print(game_img[0, HEAD_ROW_MIN:HEAD_ROW_MAX, :])\n",
    "\n",
    "# Find dark pixels between two rows where the head likely is\n",
    "locs = np.where(game_img[0, HEAD_ROW_MIN:HEAD_ROW_MAX, :] < HEAD_PIXEL_THRESHOLD)\n",
    "rows = np.sort(locs[0]) + HEAD_ROW_MIN\n",
    "print(f\"Pixels below color threshold: \" \n",
    "          f\"{locs}\")\n",
    "print(f\"Rows must be offset: {locs[0] + HEAD_ROW_MIN}\")\n",
    "\n",
    "# Give row of first dark pixel in likely head range\n",
    "if rows.size > 0:\n",
    "    print(f\"Head at row {rows[0]}\")\n",
    "else:\n",
    "    print(f\"No head detected\")"
   ]
  },
  {
   "cell_type": "code",
   "execution_count": 100,
   "id": "171dfe46-e390-4ab9-9b06-6eccc2f37fe3",
   "metadata": {},
   "outputs": [
    {
     "name": "stdout",
     "output_type": "stream",
     "text": [
      "-0.1 metres\n",
      "\n",
      "Time to do OCR: 0.00200 sec\n"
     ]
    },
    {
     "data": {
      "text/plain": [
       "<matplotlib.image.AxesImage at 0x223ed58d120>"
      ]
     },
     "execution_count": 100,
     "metadata": {},
     "output_type": "execute_result"
    },
    {
     "data": {
      "image/png": "[encoded data removed]",
      "text/plain": [
       "<Figure size 640x480 with 1 Axes>"
      ]
     },
     "metadata": {},
     "output_type": "display_data"
    }
   ],
   "source": [
    "### Use OCR to get score\n",
    "\n",
    "# Get screen grab and drop alpha channel\n",
    "score_img = screen.grab(SCORE_CROP)\n",
    "score_img = np.array(score_img)[:, :, :3]\n",
    "\n",
    "# Convert to RGB\n",
    "score_img = cv2.cvtColor(score_img, cv2.COLOR_BGR2RGB)\n",
    "\n",
    "# Do OCR with high-level call (works, 0.042 sec)\n",
    "# timestamp = time.time()\n",
    "# pil_img = Image.fromarray(score_img)\n",
    "# print(tesserocr.image_to_text(pil_img))\n",
    "# print(f\"Time to do OCR: {(time.time() - timestamp):.5f} sec\")\n",
    "\n",
    "# Do OCR with base API \n",
    "#  setup time: 0.03 sec, ocr: 0.011 sec, 0.002 sec\n",
    "timestamp = time.time()\n",
    "pil_img = Image.fromarray(score_img)\n",
    "with tesserocr.PyTessBaseAPI() as api:\n",
    "    timestamp = time.time()\n",
    "    api.SetImage(pil_img)\n",
    "    text = api.GetUTF8Text()\n",
    "    timestamp = time.time()\n",
    "    print(text)\n",
    "print(f\"Time to do OCR: {(time.time() - timestamp):.5f} sec\")\n",
    "\n",
    "# Do OCR without converting to PIL\n",
    "#   setup time: 0.03 sec, ocr: 0.011 sec, teardown: 0.002 sec\n",
    "# From: https://github.com/sirfz/tesserocr/issues/198#issuecomment-748955981\n",
    "# class PyTessBaseAPIWithCV(tesserocr.PyTessBaseAPI):\n",
    "#     def __init__(self):\n",
    "#         super().__init__()\n",
    "        \n",
    "#     def SetCVImage(self, image, color='BGR'):\n",
    "#         \"\"\" Sets an OpenCV-style image for recognition.\n",
    "\n",
    "#         'image' is a numpy ndarray in color, grayscale, or binary (boolean)\n",
    "#             format.\n",
    "#         'color' is a string representing the current color of the image,\n",
    "#             for conversion using OpenCV into an RGB array image. By default\n",
    "#             color images in OpenCV use BGR, but any valid channel\n",
    "#             specification can be used (e.g. 'BGRA', 'XYZ', 'YCrCb', 'HSV', 'HLS',\n",
    "#             'Lab', 'Luv', 'BayerBG', 'BayerGB', 'BayerRG', 'BayerGR').\n",
    "#             Conversion only occurs if the third dimension of the array is\n",
    "#             not 1, else 'color' is ignored.\n",
    "\n",
    "#         \"\"\"\n",
    "        \n",
    "#         bytes_per_pixel = image.shape[2] if len(image.shape) == 3 else 1\n",
    "#         height, width   = image.shape[:2]\n",
    "#         bytes_per_line  = bytes_per_pixel * width\n",
    "\n",
    "#         if bytes_per_pixel != 1 and color != 'RGB':\n",
    "#             # non-RGB color image -> convert to RGB\n",
    "#             image = cv2.cvtColor(image, getattr(cv2, f'COLOR_{color}2RGB'))\n",
    "#         elif bytes_per_pixel == 1 and image.dtype == bool:\n",
    "#             # binary image -> convert to bitstream\n",
    "#             image = np.packbits(image, axis=1)\n",
    "#             bytes_per_line  = image.shape[1]\n",
    "#             width = bytes_per_line * 8\n",
    "#             bytes_per_pixel = 0\n",
    "#         # else image already RGB or grayscale\n",
    "#         self.SetImageBytes(image.tobytes(), width, height,\n",
    "#                            bytes_per_pixel, bytes_per_line)\n",
    "        \n",
    "# timestamp = 0.0\n",
    "# with PyTessBaseAPIWithCV() as api:\n",
    "#     api.SetCVImage(score_img)\n",
    "#     text = api.GetUTF8Text()\n",
    "    \n",
    "#     print(text)\n",
    "#     timestamp = time.time()\n",
    "# print(f\"Time to do OCR: {(time.time() - timestamp):.5f} sec\")\n",
    "\n",
    "# ocr_str = pytesseract.image_to_string(score_img).strip()\n",
    "# score = 0.0\n",
    "# if ocr_str:\n",
    "#     score_str = ocr_str.split()[0]\n",
    "#     try:\n",
    "#         score = float(float(score_str))\n",
    "#     except ValueError:\n",
    "#         pass\n",
    "# print(f\"OCR string: {ocr_str}\")\n",
    "# print(f\"Score: {score}\")\n",
    "\n",
    "# Show image\n",
    "plt.imshow(score_img)"
   ]
  },
  {
   "cell_type": "code",
   "execution_count": 10,
   "id": "88a960a6-cb52-4a89-a1e6-582d726e6e8e",
   "metadata": {},
   "outputs": [
    {
     "name": "stdout",
     "output_type": "stream",
     "text": [
      "OCR string: click to begin\n",
      "Done: False\n"
     ]
    },
    {
     "data": {
      "text/plain": [
       "<matplotlib.image.AxesImage at 0x12f2f3c6200>"
      ]
     },
     "execution_count": 10,
     "metadata": {},
     "output_type": "execute_result"
    },
    {
     "data": {
      "image/png": "[encoded data removed]",
      "text/plain": [
       "<Figure size 640x480 with 1 Axes>"
      ]
     },
     "metadata": {},
     "output_type": "display_data"
    }
   ],
   "source": [
    "### Use OCR to get done screen\n",
    "\n",
    "# Get screen grab and drop alpha channel\n",
    "done_img = screen.grab(DONE_CROP)\n",
    "done_img = np.array(done_img)[:, :, :3]\n",
    "\n",
    "# Convert to RGB\n",
    "done_img = cv2.cvtColor(done_img, cv2.COLOR_BGR2RGB)\n",
    "\n",
    "# Do OCR to see if game is over\n",
    "ocr_str = pytesseract.image_to_string(done_img).strip()\n",
    "done = False\n",
    "if ocr_str:\n",
    "    done_str = ocr_str.split()[0]\n",
    "    if done_str in GAME_OVER_STRINGS:\n",
    "        done = True\n",
    "print(f\"OCR string: {ocr_str}\")\n",
    "print(f\"Done: {done}\")\n",
    "\n",
    "# Show image\n",
    "plt.imshow(done_img)"
   ]
  },
  {
   "cell_type": "markdown",
   "id": "2a99f0a7-3e42-4e17-9c8d-7a3a15e79db5",
   "metadata": {
    "tags": []
   },
   "source": [
    "## Test Spaces\n",
    "\n",
    "The gymnasium Environment (Env) requires us to define the observation space and action space so it can know what kinds of data to expect when it interacts with the environment. For us, the observation space is the shape and bit width of the normalized, scaled screen capture (our runner and some space in front of them). The action space is all the available actions we can input into the game (q, w, o, p) along with doing nothing (no-op). We should also test the ability to restart the game (pressing space bar)."
   ]
  },
  {
   "cell_type": "code",
   "execution_count": 11,
   "id": "ecf83847-9d2a-4020-88b1-74cab6ff7359",
   "metadata": {},
   "outputs": [
    {
     "name": "stdout",
     "output_type": "stream",
     "text": [
      "Shape: (1, 36, 36)\n",
      "Example row: [ 89  88  48 123 186 239 125 161 103  56 184 162 212 207 193 123 147 205\n",
      "  68 181 252  16 151 108  43 184  83 253 234 202  29 143  22  48 143  13]\n"
     ]
    }
   ],
   "source": [
    "### Test observation space\n",
    "\n",
    "# Create an observation space\n",
    "observation_space = gym.spaces.Box(low=0,\n",
    "                                   high=255,\n",
    "                                   shape=(1, GAME_RESIZE_WIDTH, GAME_RESIZE_WIDTH),\n",
    "                                   dtype=DTYPE)\n",
    "\n",
    "# Randomly sample from it to show that it matches our expected input screen capture\n",
    "obs = observation_space.sample()\n",
    "print(f\"Shape: {obs.shape}\")\n",
    "print(f\"Example row: {obs[0, 0, :]}\")"
   ]
  },
  {
   "cell_type": "code",
   "execution_count": 12,
   "id": "f0b5e2a9-ca67-4532-8023-12f423c1ac5d",
   "metadata": {},
   "outputs": [
    {
     "name": "stdout",
     "output_type": "stream",
     "text": [
      "4: press p\n"
     ]
    }
   ],
   "source": [
    "### Test action space\n",
    "\n",
    "# Create an action space\n",
    "action_space = gym.spaces.Discrete(len(ACTIONS_MAP))\n",
    "\n",
    "# Sample from it to show that we can randomly generate a number corresponding to an action\n",
    "action = action_space.sample()\n",
    "print(f\"{action}: {ACTIONS_MAP[action]}\")"
   ]
  },
  {
   "cell_type": "code",
   "execution_count": 13,
   "id": "1a74db97-d55e-4804-9414-b2328627d8fd",
   "metadata": {},
   "outputs": [
    {
     "name": "stdout",
     "output_type": "stream",
     "text": [
      "press o: 3\n",
      "press w: 2\n",
      "press q: 1\n",
      "release q: 5\n",
      "press o: 3\n",
      "press w: 2\n",
      "release o: 7\n",
      "release o: 7\n",
      "no-op: 0\n",
      "release p: 8\n"
     ]
    }
   ],
   "source": [
    "### Test control interaction: reset game and do some random stuff\n",
    "\n",
    "# Create interaction objects\n",
    "keyboard = pynput.keyboard.Controller()\n",
    "mouse = pynput.mouse.Controller()\n",
    "\n",
    "# Move mouse to QWOP window and click to bring to focus\n",
    "mouse.position = RESTART_MOUSE_POS\n",
    "mouse.press(pynput.mouse.Button.left)\n",
    "mouse.release(pynput.mouse.Button.left)\n",
    "\n",
    "# Press 'r' to restart game\n",
    "keyboard.press(RESTART_KEY)\n",
    "keyboard.release(RESTART_KEY)\n",
    "\n",
    "# Sample randomly from our action space to control the game\n",
    "for _ in range(10):\n",
    "    action = action_space.sample()\n",
    "    if ACTIONS_MAP[action] == 'press q':\n",
    "        keyboard.press('q')\n",
    "    elif ACTIONS_MAP[action] == 'press w':\n",
    "        keyboard.press('w')\n",
    "    elif ACTIONS_MAP[action] == 'press o':\n",
    "        keyboard.press('o')\n",
    "    elif ACTIONS_MAP[action] == 'press p':\n",
    "        keyboard.press('p')\n",
    "    elif ACTIONS_MAP[action] == 'release q':\n",
    "        keyboard.release('q')\n",
    "    elif ACTIONS_MAP[action] == 'release w':\n",
    "        keyboard.release('w')\n",
    "    elif ACTIONS_MAP[action] == 'release o':\n",
    "        keyboard.release('o')\n",
    "    elif ACTIONS_MAP[action] == 'release p':\n",
    "        keyboard.release('p')\n",
    "    print(f\"{ACTIONS_MAP[action]}: {action}\")\n",
    "    time.sleep(ACTIONS_KEY_PRESS_TIME)\n",
    "    \n",
    "# Release everything\n",
    "keyboard.release('q')\n",
    "keyboard.release('w')\n",
    "keyboard.release('o')\n",
    "keyboard.release('p')"
   ]
  },
  {
   "cell_type": "markdown",
   "id": "779fc038-5ea9-4b97-83fc-19b20af1030b",
   "metadata": {
    "tags": []
   },
   "source": [
    "## Build gym Environment\n",
    "\n",
    "Subclass gymnasium.Env to create a custom environment. Learn more here: https://gymnasium.farama.org/tutorials/gymnasium_basics/environment_creation/"
   ]
  },
  {
   "cell_type": "code",
   "execution_count": 51,
   "id": "1e22b32b-7115-4a33-8299-bde8d40805a8",
   "metadata": {},
   "outputs": [],
   "source": [
    "class WebGame(gym.Env):\n",
    "    \"\"\"\n",
    "    Subclass gymnasium Env class\n",
    "    \n",
    "    This is the gym wrapper class that allows our agent to interact with our environment. We need\n",
    "    to implement four main methods: step(), reset(), render(), and close(). We should also define\n",
    "    the action_space and observation space as class members.\n",
    "    \n",
    "    More information: https://gymnasium.farama.org/api/env/\n",
    "    \"\"\"\n",
    "    \n",
    "    # Set up the environment, action, and observation shapes. Optional timeout in seconds.\n",
    "    def __init__(self, timeout=0.0, disp_scale=0.0, show_fps=False, debug_time=False):\n",
    "        \n",
    "        # Call superclass's constructor\n",
    "        super().__init__()\n",
    "        \n",
    "        # Env requires us to define the action space\n",
    "        self.action_space = gym.spaces.Discrete(len(ACTIONS_MAP))\n",
    "        \n",
    "        # Env requires us to define the observation space\n",
    "        self.observation_space = gym.spaces.Box(low=0,\n",
    "                                                high=255,\n",
    "                                                shape=(1, GAME_RESIZE_HEIGHT, GAME_RESIZE_WIDTH),\n",
    "                                                dtype=DTYPE)\n",
    "        \n",
    "        # Screen capture object\n",
    "        self.screen = mss()\n",
    "        \n",
    "        # Record total score between rounds (to calculate reward each step)\n",
    "        self.score = 0.0\n",
    "        \n",
    "        # Used to record the time\n",
    "        self.timeout = timeout\n",
    "        self.start_time = 0.0\n",
    "        if self.timeout > 0.0:\n",
    "            self.start_time = time.time()\n",
    "            \n",
    "        # How much to scale the render window\n",
    "        self.disp_scale = disp_scale\n",
    "        \n",
    "        # Record time for debugging and showing FPS in render window\n",
    "        self.fps = 0.0\n",
    "        self.show_fps = show_fps\n",
    "        self.timestamp = time.time()\n",
    "        self.debug_time = debug_time\n",
    "        self.debug_start_time = time.time()\n",
    "        self.debug_timestamp = time.time()\n",
    "\n",
    "        # Initialize game image\n",
    "        self.game_img = np.zeros((1, GAME_RESIZE_HEIGHT, GAME_RESIZE_WIDTH))\n",
    "        \n",
    "        # Show rendering in new window if requested\n",
    "        if self.disp_scale > 0.0:\n",
    "            cv2.namedWindow('Game Image')\n",
    "        \n",
    "        pass\n",
    "    \n",
    "    # What happens when you take a step in the game (e.g. each frame)\n",
    "    def step(self, action):\n",
    "        \n",
    "        # Debug timing\n",
    "        self.show_debug_time(\"Step start\")\n",
    "        \n",
    "        # Perform action (don't do anything for no-op)\n",
    "        if ACTIONS_MAP[action] == 'press q':\n",
    "            keyboard.press('q')\n",
    "        elif ACTIONS_MAP[action] == 'press w':\n",
    "            keyboard.press('w')\n",
    "        elif ACTIONS_MAP[action] == 'press o':\n",
    "            keyboard.press('o')\n",
    "        elif ACTIONS_MAP[action] == 'press p':\n",
    "            keyboard.press('p')\n",
    "        elif ACTIONS_MAP[action] == 'release q':\n",
    "            keyboard.release('q')\n",
    "        elif ACTIONS_MAP[action] == 'release w':\n",
    "            keyboard.release('w')\n",
    "        elif ACTIONS_MAP[action] == 'release o':\n",
    "            keyboard.release('o')\n",
    "        elif ACTIONS_MAP[action] == 'release p':\n",
    "            keyboard.release('p')\n",
    "        self.show_debug_time(\"Perform action\")\n",
    "            \n",
    "        # Get next observation and render\n",
    "        obs = self.get_observation()\n",
    "        self.show_debug_time(\"Get obs\")\n",
    "        \n",
    "        # Use distance as total score. Calculate score difference between this step and previous.\n",
    "        prev_score = self.score\n",
    "        self.score = self.get_score()\n",
    "        reward = self.score - prev_score\n",
    "        self.show_debug_time(\"Get score\")\n",
    "        \n",
    "        # Check if done\n",
    "        terminated = self.get_done()\n",
    "        self.show_debug_time(\"Get done\")\n",
    "        \n",
    "        # Penalize agent for letting head drop below a given row to discourage \"scooting\"\n",
    "        head_row = self.get_head_row()\n",
    "        if head_row > HEAD_HEIGHT_THRESHOLD:\n",
    "            reward += KNEEL_REWARD\n",
    "        self.show_debug_time(\"Get head row\")\n",
    "        \n",
    "        # Penalize agent for falling\n",
    "        if terminated:\n",
    "            reward += FALL_REWARD\n",
    "        \n",
    "        # Check if we've exceeded the time limit\n",
    "        elapsed_time = 0.0\n",
    "        truncated = False\n",
    "        if not terminated and self.timeout > 0.0:\n",
    "            elapsed_time = time.time() - self.start_time\n",
    "            if elapsed_time >= self.timeout:\n",
    "                truncated = True\n",
    "                \n",
    "        # Release all control keys if ending\n",
    "        if terminated or truncated:\n",
    "            keyboard.release('q')\n",
    "            keyboard.release('w')\n",
    "            keyboard.release('o')\n",
    "            keyboard.release('p')\n",
    "            \n",
    "        # Calculate FPS\n",
    "        now = time.time()\n",
    "        self.fps = 1 / (now - self.timestamp)\n",
    "        self.timestamp = now\n",
    "        \n",
    "        # Return auxiliary information for debugging\n",
    "        info = {'score': self.score, 'time': elapsed_time, 'fps': self.fps}\n",
    "        \n",
    "        # Done debugging time\n",
    "        self.show_debug_time(\"Final checks\")\n",
    "        if self.debug_time:\n",
    "            print(\"---\")\n",
    "\n",
    "        return obs, reward, terminated, truncated, info\n",
    "    \n",
    "    # Visualize the game using OpenCV\n",
    "    def render(self, track_head=False):\n",
    "        if self.disp_scale > 0:\n",
    "            \n",
    "            # Get the game image we plan to display\n",
    "            disp_img = self.game_img[0]\n",
    "            \n",
    "            # Draw tracking marker for head and threshold row\n",
    "            if track_head:\n",
    "                head_row = self.get_head_row()\n",
    "                head_col = int(disp_img.shape[1] / 2)\n",
    "                disp_img[head_row, head_col] = 255\n",
    "                disp_img[HEAD_HEIGHT_THRESHOLD, ::3] = 255\n",
    "            \n",
    "            # Resize our game image to something that can be easily seen\n",
    "            disp_width = int(GAME_RESIZE_WIDTH * DISP_SCALE_FACTOR)\n",
    "            disp_height = int(GAME_RESIZE_HEIGHT * DISP_SCALE_FACTOR)\n",
    "            disp_img = cv2.resize(disp_img, (disp_width, disp_height), interpolation=cv2.INTER_AREA)\n",
    "            \n",
    "            # Add FPS counter to image\n",
    "            if self.show_fps:\n",
    "                disp_img = cv2.putText(disp_img, \n",
    "                                       f\"fps: {self.fps:.1f}\", \n",
    "                                       (10, 25), \n",
    "                                       cv2.FONT_HERSHEY_SIMPLEX, \n",
    "                                       1, \n",
    "                                       (255), \n",
    "                                       2, \n",
    "                                       cv2.LINE_AA)\n",
    "                \n",
    "\n",
    "                \n",
    "            # Draw and wait 1 ms\n",
    "            cv2.imshow('Game Image', disp_img)\n",
    "            cv2.waitKey(1)\n",
    "    \n",
    "    # Restart the game\n",
    "    def reset(self):\n",
    "        \n",
    "        # Wait, move mouse to game window, click for focus\n",
    "        time.sleep(0.5)\n",
    "        mouse.position = RESTART_MOUSE_POS\n",
    "        mouse.press(pynput.mouse.Button.left)\n",
    "        mouse.release(pynput.mouse.Button.left)\n",
    "        \n",
    "        # Press 'space' to restart game\n",
    "        keyboard.press(RESTART_KEY)\n",
    "        time.sleep(ACTIONS_KEY_PRESS_TIME)\n",
    "        keyboard.release(RESTART_KEY)\n",
    "        \n",
    "        # Reset score and time\n",
    "        self.score = 0.0\n",
    "        if self.timeout > 0.0:\n",
    "            self.start_time = time.time()\n",
    "        \n",
    "        # Get first observation of new game\n",
    "        obs = self.get_observation()\n",
    "        \n",
    "        # Return auxiliary information for debugging\n",
    "        info = {'score': self.score, 'time': 0.0, 'fps': 0.0}\n",
    "        \n",
    "        return obs, info\n",
    "    \n",
    "    # Close down the game: release keys and close OpenCV windows\n",
    "    def close(self):\n",
    "        keyboard.release('q')\n",
    "        keyboard.release('w')\n",
    "        keyboard.release('o')\n",
    "        keyboard.release('p')\n",
    "        cv2.destroyAllWindows()\n",
    "    \n",
    "    # Get the part of the observation of the game that we want (e.g. crop, resize)\n",
    "    def get_observation(self):\n",
    "        \n",
    "        # Get screen grab and drop alpha channel\n",
    "        game_img = screen.grab(GAME_CROP)\n",
    "        game_img = np.array(game_img, dtype=DTYPE)[:, :, :3]\n",
    "\n",
    "        # Convert to grayscale and resize\n",
    "        game_img = cv2.cvtColor(game_img, cv2.COLOR_BGR2GRAY)\n",
    "        game_img = cv2.resize(game_img, (GAME_RESIZE_WIDTH, GAME_RESIZE_HEIGHT))\n",
    "        \n",
    "        # Add channel dimension first (in case you want RGB later)\n",
    "        game_img = np.reshape(game_img, (1, GAME_RESIZE_HEIGHT, GAME_RESIZE_WIDTH))\n",
    "        \n",
    "        # Render\n",
    "        self.game_img = game_img\n",
    "        self.render(track_head=True)\n",
    "        \n",
    "        return game_img\n",
    "    \n",
    "    # Get the distance ran to use as a total score and to calculate rewards\n",
    "    def get_score(self):\n",
    "        \n",
    "        # Get screen grab and drop alpha channel\n",
    "        score_img = screen.grab(SCORE_CROP)\n",
    "        score_img = np.array(score_img)[:, :, :3]\n",
    "\n",
    "        # Convert to RGB\n",
    "        score_img = cv2.cvtColor(score_img, cv2.COLOR_BGR2RGB)\n",
    "\n",
    "        # Do OCR to get distance traveled\n",
    "        ocr_str = pytesseract.image_to_string(score_img).strip()\n",
    "        score = 0.0\n",
    "        if ocr_str:\n",
    "            score_str = ocr_str.split()[0]\n",
    "            try:\n",
    "                score = float(float(score_str))\n",
    "            except ValueError:\n",
    "                pass\n",
    "        \n",
    "        return score\n",
    "    \n",
    "    # Get the row of the head\n",
    "    def get_head_row(self):\n",
    "        \n",
    "        # Give row of first dark pixel in likely head range\n",
    "        locs = np.where(self.game_img[0, HEAD_ROW_MIN:HEAD_ROW_MAX, :] < HEAD_PIXEL_THRESHOLD)\n",
    "        rows = np.sort(locs[0]) + HEAD_ROW_MIN\n",
    "        if rows.size > 0:\n",
    "            return rows[0]\n",
    "        else:\n",
    "            return -1\n",
    "    \n",
    "    # Get the done text using OCR\n",
    "    def get_done(self):\n",
    "        \n",
    "        # Get screen grab and drop alpha channel\n",
    "        done_img = screen.grab(DONE_CROP)\n",
    "        done_img = np.array(done_img)[:, :, :3]\n",
    "\n",
    "        # Convert to RGB\n",
    "        done_img = cv2.cvtColor(done_img, cv2.COLOR_BGR2RGB)\n",
    "\n",
    "        # Do OCR to see if game is over\n",
    "        ocr_str = pytesseract.image_to_string(done_img).strip()\n",
    "        done = False\n",
    "        if ocr_str:\n",
    "            done_str = ocr_str.split()[0]\n",
    "            if done_str in GAME_OVER_STRINGS:\n",
    "                done = True\n",
    "                \n",
    "        return done\n",
    "    \n",
    "    # Report time elapsed from environment start and time elapsed from last call\n",
    "    def show_debug_time(self, msg=\"\"):\n",
    "        if self.debug_time:\n",
    "            debug_now = time.time()\n",
    "            print(f\"Timestamp: {(debug_now - self.debug_start_time):.2f} | \"\n",
    "                  f\"Since last: {(debug_now - self.debug_timestamp):.2f} | \"\n",
    "                  f\"{msg}\")\n",
    "            self.debug_timestamp = debug_now"
   ]
  },
  {
   "cell_type": "markdown",
   "id": "4750eb59-9fea-45de-a33a-901ef346f079",
   "metadata": {},
   "source": [
    "## Test gym Environment\n",
    "\n",
    "It's always a good idea to test your environment wrapper before training."
   ]
  },
  {
   "cell_type": "code",
   "execution_count": 52,
   "id": "67317941-9de8-424a-a330-888c9321d5ea",
   "metadata": {},
   "outputs": [],
   "source": [
    "# Create our environment with a timeout\n",
    "try:\n",
    "    env.close()\n",
    "except NameError:\n",
    "    pass\n",
    "env = WebGame(timeout=5.0, disp_scale=0.0, show_fps=True, debug_time=True)"
   ]
  },
  {
   "cell_type": "code",
   "execution_count": 53,
   "id": "e0836d4c-c364-4045-81b7-731a0374e5df",
   "metadata": {},
   "outputs": [
    {
     "name": "stdout",
     "output_type": "stream",
     "text": [
      "Score: 0.5\n",
      "Done: True\n",
      "Shape: (1, 36, 36)\n"
     ]
    },
    {
     "data": {
      "text/plain": [
       "<matplotlib.image.AxesImage at 0x12f2c943430>"
      ]
     },
     "execution_count": 53,
     "metadata": {},
     "output_type": "execute_result"
    },
    {
     "data": {
      "image/png": "[encoded data removed]",
      "text/plain": [
       "<Figure size 640x480 with 1 Axes>"
      ]
     },
     "metadata": {},
     "output_type": "display_data"
    }
   ],
   "source": [
    "### Test environment wrapper methods\n",
    "\n",
    "# Get current score\n",
    "print(f\"Score: {env.get_score()}\")\n",
    "\n",
    "# See if game is done\n",
    "print(f\"Done: {env.get_done()}\")\n",
    "\n",
    "# Get the current observation\n",
    "obs = env.get_observation()\n",
    "print(f\"Shape: {obs.shape}\")\n",
    "plt.imshow(obs[0], cmap='gray')"
   ]
  },
  {
   "cell_type": "code",
   "execution_count": 54,
   "id": "ae3b621e-15d1-4fb3-a89c-7ef9a340b2bc",
   "metadata": {},
   "outputs": [
    {
     "name": "stdout",
     "output_type": "stream",
     "text": [
      "Timestamp: 2.65 | Since last: 2.65 | Step start\n",
      "Timestamp: 2.65 | Since last: 0.00 | Perform action\n",
      "Timestamp: 2.66 | Since last: 0.02 | Get obs\n",
      "Timestamp: 2.81 | Since last: 0.14 | Get score\n",
      "Timestamp: 2.93 | Since last: 0.12 | Get done\n",
      "Timestamp: 2.93 | Since last: 0.00 | Get head row\n",
      "Timestamp: 2.93 | Since last: 0.00 | Final checks\n",
      "---\n",
      "Timestamp: 2.93 | Since last: 0.00 | Step start\n",
      "Timestamp: 2.93 | Since last: 0.00 | Perform action\n",
      "Timestamp: 2.95 | Since last: 0.02 | Get obs\n",
      "Timestamp: 3.08 | Since last: 0.13 | Get score\n",
      "Timestamp: 3.21 | Since last: 0.13 | Get done\n",
      "Timestamp: 3.21 | Since last: 0.00 | Get head row\n",
      "Timestamp: 3.21 | Since last: 0.00 | Final checks\n",
      "---\n",
      "Timestamp: 3.21 | Since last: 0.00 | Step start\n",
      "Timestamp: 3.21 | Since last: 0.00 | Perform action\n",
      "Timestamp: 3.23 | Since last: 0.02 | Get obs\n",
      "Timestamp: 3.37 | Since last: 0.14 | Get score\n",
      "Timestamp: 3.51 | Since last: 0.14 | Get done\n",
      "Timestamp: 3.51 | Since last: 0.00 | Get head row\n",
      "Timestamp: 3.51 | Since last: 0.00 | Final checks\n",
      "---\n",
      "Timestamp: 3.51 | Since last: 0.00 | Step start\n",
      "Timestamp: 3.51 | Since last: 0.00 | Perform action\n",
      "Timestamp: 3.51 | Since last: 0.01 | Get obs\n",
      "Timestamp: 3.67 | Since last: 0.15 | Get score\n",
      "Timestamp: 3.80 | Since last: 0.13 | Get done\n",
      "Timestamp: 3.80 | Since last: 0.00 | Get head row\n",
      "Timestamp: 3.80 | Since last: 0.00 | Final checks\n",
      "---\n",
      "Timestamp: 3.80 | Since last: 0.00 | Step start\n",
      "Timestamp: 3.80 | Since last: 0.00 | Perform action\n",
      "Timestamp: 3.81 | Since last: 0.02 | Get obs\n",
      "Timestamp: 3.95 | Since last: 0.14 | Get score\n",
      "Timestamp: 4.10 | Since last: 0.15 | Get done\n",
      "Timestamp: 4.10 | Since last: 0.00 | Get head row\n",
      "Timestamp: 4.10 | Since last: 0.00 | Final checks\n",
      "---\n",
      "Timestamp: 4.10 | Since last: 0.00 | Step start\n",
      "Timestamp: 4.10 | Since last: 0.00 | Perform action\n",
      "Timestamp: 4.11 | Since last: 0.02 | Get obs\n",
      "Timestamp: 4.26 | Since last: 0.15 | Get score\n",
      "Timestamp: 4.42 | Since last: 0.15 | Get done\n",
      "Timestamp: 4.42 | Since last: 0.00 | Get head row\n",
      "Timestamp: 4.42 | Since last: 0.00 | Final checks\n",
      "---\n",
      "Timestamp: 4.42 | Since last: 0.00 | Step start\n",
      "Timestamp: 4.42 | Since last: 0.00 | Perform action\n",
      "Timestamp: 4.43 | Since last: 0.01 | Get obs\n",
      "Timestamp: 4.59 | Since last: 0.16 | Get score\n",
      "Timestamp: 4.72 | Since last: 0.14 | Get done\n",
      "Timestamp: 4.72 | Since last: 0.00 | Get head row\n",
      "Timestamp: 4.72 | Since last: 0.00 | Final checks\n",
      "---\n",
      "Timestamp: 4.72 | Since last: 0.00 | Step start\n",
      "Timestamp: 4.73 | Since last: 0.00 | Perform action\n",
      "Timestamp: 4.73 | Since last: 0.00 | Get obs\n",
      "Timestamp: 4.89 | Since last: 0.16 | Get score\n",
      "Timestamp: 5.03 | Since last: 0.14 | Get done\n",
      "Timestamp: 5.03 | Since last: 0.00 | Get head row\n",
      "Timestamp: 5.03 | Since last: 0.00 | Final checks\n",
      "---\n",
      "Timestamp: 5.03 | Since last: 0.00 | Step start\n",
      "Timestamp: 5.03 | Since last: 0.00 | Perform action\n",
      "Timestamp: 5.05 | Since last: 0.02 | Get obs\n",
      "Timestamp: 5.20 | Since last: 0.15 | Get score\n",
      "Timestamp: 5.35 | Since last: 0.15 | Get done\n",
      "Timestamp: 5.35 | Since last: 0.00 | Get head row\n",
      "Timestamp: 5.35 | Since last: 0.00 | Final checks\n",
      "---\n",
      "Timestamp: 5.35 | Since last: 0.00 | Step start\n",
      "Timestamp: 5.35 | Since last: 0.00 | Perform action\n",
      "Timestamp: 5.36 | Since last: 0.01 | Get obs\n",
      "Timestamp: 5.52 | Since last: 0.16 | Get score\n",
      "Timestamp: 5.67 | Since last: 0.15 | Get done\n",
      "Timestamp: 5.68 | Since last: 0.00 | Get head row\n",
      "Timestamp: 5.68 | Since last: 0.00 | Final checks\n",
      "---\n",
      "Timestamp: 5.68 | Since last: 0.00 | Step start\n",
      "Timestamp: 5.68 | Since last: 0.00 | Perform action\n",
      "Timestamp: 5.68 | Since last: 0.01 | Get obs\n",
      "Timestamp: 5.84 | Since last: 0.16 | Get score\n",
      "Timestamp: 6.00 | Since last: 0.15 | Get done\n",
      "Timestamp: 6.00 | Since last: 0.00 | Get head row\n",
      "Timestamp: 6.00 | Since last: 0.00 | Final checks\n",
      "---\n",
      "Timestamp: 6.00 | Since last: 0.00 | Step start\n",
      "Timestamp: 6.00 | Since last: 0.00 | Perform action\n",
      "Timestamp: 6.01 | Since last: 0.01 | Get obs\n",
      "Timestamp: 6.17 | Since last: 0.16 | Get score\n",
      "Timestamp: 6.33 | Since last: 0.15 | Get done\n",
      "Timestamp: 6.33 | Since last: 0.00 | Get head row\n",
      "Timestamp: 6.33 | Since last: 0.00 | Final checks\n",
      "---\n",
      "Timestamp: 6.33 | Since last: 0.00 | Step start\n",
      "Timestamp: 6.33 | Since last: 0.00 | Perform action\n",
      "Timestamp: 6.35 | Since last: 0.02 | Get obs\n",
      "Timestamp: 6.51 | Since last: 0.17 | Get score\n",
      "Timestamp: 6.68 | Since last: 0.16 | Get done\n",
      "Timestamp: 6.68 | Since last: 0.00 | Get head row\n",
      "Timestamp: 6.68 | Since last: 0.00 | Final checks\n",
      "---\n",
      "Total reward for episode 0 is -105.9\n",
      "Timestamp: 7.27 | Since last: 0.59 | Step start\n",
      "Timestamp: 7.27 | Since last: 0.00 | Perform action\n",
      "Timestamp: 7.28 | Since last: 0.01 | Get obs\n",
      "Timestamp: 7.44 | Since last: 0.16 | Get score\n",
      "Timestamp: 7.58 | Since last: 0.13 | Get done\n",
      "Timestamp: 7.58 | Since last: 0.00 | Get head row\n",
      "Timestamp: 7.58 | Since last: 0.00 | Final checks\n",
      "---\n",
      "Timestamp: 7.58 | Since last: 0.00 | Step start\n",
      "Timestamp: 7.58 | Since last: 0.00 | Perform action\n",
      "Timestamp: 7.60 | Since last: 0.02 | Get obs\n",
      "Timestamp: 7.75 | Since last: 0.16 | Get score\n",
      "Timestamp: 7.90 | Since last: 0.14 | Get done\n",
      "Timestamp: 7.90 | Since last: 0.00 | Get head row\n",
      "Timestamp: 7.90 | Since last: 0.00 | Final checks\n",
      "---\n",
      "Timestamp: 7.90 | Since last: 0.00 | Step start\n",
      "Timestamp: 7.90 | Since last: 0.00 | Perform action\n",
      "Timestamp: 7.91 | Since last: 0.02 | Get obs\n",
      "Timestamp: 8.07 | Since last: 0.15 | Get score\n",
      "Timestamp: 8.22 | Since last: 0.15 | Get done\n",
      "Timestamp: 8.22 | Since last: 0.00 | Get head row\n",
      "Timestamp: 8.22 | Since last: 0.00 | Final checks\n",
      "---\n",
      "Timestamp: 8.22 | Since last: 0.00 | Step start\n",
      "Timestamp: 8.22 | Since last: 0.00 | Perform action\n",
      "Timestamp: 8.23 | Since last: 0.01 | Get obs\n",
      "Timestamp: 8.39 | Since last: 0.16 | Get score\n",
      "Timestamp: 8.57 | Since last: 0.17 | Get done\n",
      "Timestamp: 8.57 | Since last: 0.00 | Get head row\n",
      "Timestamp: 8.57 | Since last: 0.00 | Final checks\n",
      "---\n",
      "Timestamp: 8.57 | Since last: 0.00 | Step start\n",
      "Timestamp: 8.57 | Since last: 0.00 | Perform action\n",
      "Timestamp: 8.58 | Since last: 0.01 | Get obs\n",
      "Timestamp: 8.77 | Since last: 0.18 | Get score\n",
      "Timestamp: 8.94 | Since last: 0.17 | Get done\n",
      "Timestamp: 8.94 | Since last: 0.00 | Get head row\n",
      "Timestamp: 8.94 | Since last: 0.00 | Final checks\n",
      "---\n",
      "Timestamp: 8.94 | Since last: 0.00 | Step start\n",
      "Timestamp: 8.94 | Since last: 0.00 | Perform action\n",
      "Timestamp: 8.95 | Since last: 0.01 | Get obs\n",
      "Timestamp: 9.14 | Since last: 0.19 | Get score\n",
      "Timestamp: 9.30 | Since last: 0.16 | Get done\n",
      "Timestamp: 9.30 | Since last: 0.00 | Get head row\n",
      "Timestamp: 9.30 | Since last: 0.00 | Final checks\n",
      "---\n",
      "Timestamp: 9.30 | Since last: 0.00 | Step start\n",
      "Timestamp: 9.30 | Since last: 0.00 | Perform action\n",
      "Timestamp: 9.32 | Since last: 0.01 | Get obs\n",
      "Timestamp: 9.49 | Since last: 0.18 | Get score\n",
      "Timestamp: 9.67 | Since last: 0.18 | Get done\n",
      "Timestamp: 9.67 | Since last: 0.00 | Get head row\n",
      "Timestamp: 9.67 | Since last: 0.00 | Final checks\n",
      "---\n",
      "Timestamp: 9.67 | Since last: 0.00 | Step start\n",
      "Timestamp: 9.67 | Since last: 0.00 | Perform action\n",
      "Timestamp: 9.68 | Since last: 0.01 | Get obs\n",
      "Timestamp: 9.85 | Since last: 0.17 | Get score\n",
      "Timestamp: 10.02 | Since last: 0.17 | Get done\n",
      "Timestamp: 10.02 | Since last: 0.00 | Get head row\n",
      "Timestamp: 10.02 | Since last: 0.00 | Final checks\n",
      "---\n",
      "Timestamp: 10.02 | Since last: 0.00 | Step start\n",
      "Timestamp: 10.02 | Since last: 0.00 | Perform action\n",
      "Timestamp: 10.03 | Since last: 0.02 | Get obs\n",
      "Timestamp: 10.21 | Since last: 0.17 | Get score\n",
      "Timestamp: 10.36 | Since last: 0.15 | Get done\n",
      "Timestamp: 10.36 | Since last: 0.00 | Get head row\n",
      "Timestamp: 10.36 | Since last: 0.00 | Final checks\n",
      "---\n",
      "Timestamp: 10.36 | Since last: 0.00 | Step start\n",
      "Timestamp: 10.36 | Since last: 0.00 | Perform action\n",
      "Timestamp: 10.38 | Since last: 0.02 | Get obs\n",
      "Timestamp: 10.56 | Since last: 0.18 | Get score\n",
      "Timestamp: 10.73 | Since last: 0.16 | Get done\n",
      "Timestamp: 10.73 | Since last: 0.00 | Get head row\n",
      "Timestamp: 10.73 | Since last: 0.00 | Final checks\n",
      "---\n",
      "Timestamp: 10.73 | Since last: 0.00 | Step start\n",
      "Timestamp: 10.73 | Since last: 0.00 | Perform action\n",
      "Timestamp: 10.73 | Since last: 0.01 | Get obs\n",
      "Timestamp: 10.91 | Since last: 0.17 | Get score\n",
      "Timestamp: 11.06 | Since last: 0.15 | Get done\n",
      "Timestamp: 11.06 | Since last: 0.00 | Get head row\n",
      "Timestamp: 11.06 | Since last: 0.00 | Final checks\n",
      "---\n",
      "Timestamp: 11.06 | Since last: 0.00 | Step start\n",
      "Timestamp: 11.06 | Since last: 0.00 | Perform action\n",
      "Timestamp: 11.08 | Since last: 0.02 | Get obs\n",
      "Timestamp: 11.27 | Since last: 0.18 | Get score\n",
      "Timestamp: 11.43 | Since last: 0.17 | Get done\n",
      "Timestamp: 11.43 | Since last: 0.00 | Get head row\n",
      "Timestamp: 11.43 | Since last: 0.00 | Final checks\n",
      "---\n",
      "Timestamp: 11.43 | Since last: 0.00 | Step start\n",
      "Timestamp: 11.43 | Since last: 0.00 | Perform action\n",
      "Timestamp: 11.45 | Since last: 0.02 | Get obs\n",
      "Timestamp: 11.61 | Since last: 0.16 | Get score\n",
      "Timestamp: 11.77 | Since last: 0.16 | Get done\n",
      "Timestamp: 11.77 | Since last: 0.00 | Get head row\n",
      "Timestamp: 11.77 | Since last: 0.00 | Final checks\n",
      "---\n",
      "Timestamp: 11.77 | Since last: 0.00 | Step start\n",
      "Timestamp: 11.77 | Since last: 0.00 | Perform action\n",
      "Timestamp: 11.78 | Since last: 0.01 | Get obs\n",
      "Timestamp: 11.94 | Since last: 0.16 | Get score\n",
      "Timestamp: 12.10 | Since last: 0.15 | Get done\n",
      "Timestamp: 12.10 | Since last: 0.00 | Get head row\n",
      "Timestamp: 12.10 | Since last: 0.00 | Final checks\n",
      "---\n",
      "Timestamp: 12.10 | Since last: 0.00 | Step start\n",
      "Timestamp: 12.10 | Since last: 0.00 | Perform action\n",
      "Timestamp: 12.12 | Since last: 0.02 | Get obs\n",
      "Timestamp: 12.28 | Since last: 0.16 | Get score\n",
      "Timestamp: 12.44 | Since last: 0.16 | Get done\n",
      "Timestamp: 12.44 | Since last: 0.00 | Get head row\n",
      "Timestamp: 12.44 | Since last: 0.00 | Final checks\n",
      "---\n",
      "Total reward for episode 1 is -7.700000000000001\n",
      "Timestamp: 13.03 | Since last: 0.59 | Step start\n",
      "Timestamp: 13.03 | Since last: 0.00 | Perform action\n",
      "Timestamp: 13.05 | Since last: 0.02 | Get obs\n",
      "Timestamp: 13.20 | Since last: 0.15 | Get score\n",
      "Timestamp: 13.35 | Since last: 0.15 | Get done\n",
      "Timestamp: 13.35 | Since last: 0.00 | Get head row\n",
      "Timestamp: 13.35 | Since last: 0.00 | Final checks\n",
      "---\n",
      "Timestamp: 13.35 | Since last: 0.00 | Step start\n",
      "Timestamp: 13.35 | Since last: 0.00 | Perform action\n",
      "Timestamp: 13.37 | Since last: 0.02 | Get obs\n",
      "Timestamp: 13.53 | Since last: 0.16 | Get score\n",
      "Timestamp: 13.67 | Since last: 0.14 | Get done\n",
      "Timestamp: 13.67 | Since last: 0.00 | Get head row\n",
      "Timestamp: 13.67 | Since last: 0.00 | Final checks\n",
      "---\n",
      "Timestamp: 13.67 | Since last: 0.00 | Step start\n",
      "Timestamp: 13.67 | Since last: 0.00 | Perform action\n",
      "Timestamp: 13.68 | Since last: 0.01 | Get obs\n",
      "Timestamp: 13.85 | Since last: 0.17 | Get score\n",
      "Timestamp: 14.02 | Since last: 0.17 | Get done\n",
      "Timestamp: 14.02 | Since last: 0.00 | Get head row\n",
      "Timestamp: 14.02 | Since last: 0.00 | Final checks\n",
      "---\n",
      "Timestamp: 14.02 | Since last: 0.00 | Step start\n",
      "Timestamp: 14.02 | Since last: 0.00 | Perform action\n",
      "Timestamp: 14.04 | Since last: 0.02 | Get obs\n",
      "Timestamp: 14.21 | Since last: 0.17 | Get score\n",
      "Timestamp: 14.36 | Since last: 0.15 | Get done\n",
      "Timestamp: 14.36 | Since last: 0.00 | Get head row\n",
      "Timestamp: 14.36 | Since last: 0.00 | Final checks\n",
      "---\n",
      "Timestamp: 14.36 | Since last: 0.00 | Step start\n",
      "Timestamp: 14.36 | Since last: 0.00 | Perform action\n",
      "Timestamp: 14.37 | Since last: 0.01 | Get obs\n",
      "Timestamp: 14.55 | Since last: 0.18 | Get score\n",
      "Timestamp: 14.71 | Since last: 0.16 | Get done\n",
      "Timestamp: 14.71 | Since last: 0.00 | Get head row\n",
      "Timestamp: 14.71 | Since last: 0.00 | Final checks\n",
      "---\n",
      "Timestamp: 14.71 | Since last: 0.00 | Step start\n",
      "Timestamp: 14.71 | Since last: 0.00 | Perform action\n",
      "Timestamp: 14.73 | Since last: 0.02 | Get obs\n",
      "Timestamp: 14.92 | Since last: 0.18 | Get score\n",
      "Timestamp: 15.07 | Since last: 0.15 | Get done\n",
      "Timestamp: 15.07 | Since last: 0.00 | Get head row\n",
      "Timestamp: 15.07 | Since last: 0.00 | Final checks\n",
      "---\n",
      "Timestamp: 15.07 | Since last: 0.00 | Step start\n",
      "Timestamp: 15.07 | Since last: 0.00 | Perform action\n",
      "Timestamp: 15.09 | Since last: 0.01 | Get obs\n",
      "Timestamp: 15.24 | Since last: 0.16 | Get score\n",
      "Timestamp: 15.39 | Since last: 0.15 | Get done\n",
      "Timestamp: 15.39 | Since last: 0.00 | Get head row\n",
      "Timestamp: 15.40 | Since last: 0.00 | Final checks\n",
      "---\n",
      "Total reward for episode 2 is -103.7\n"
     ]
    }
   ],
   "source": [
    "### Test game loop\n",
    "\n",
    "debug = False\n",
    "\n",
    "# Do a few game loops\n",
    "for ep in range(3):\n",
    "    \n",
    "    # Initialize game\n",
    "    obs, info = env.reset()\n",
    "    terminated = False\n",
    "    truncated = False\n",
    "    total_reward = 0\n",
    "    \n",
    "    # Do a single game loop\n",
    "    while not terminated and not truncated:\n",
    "        obs, reward, terminated, truncated, info = env.step(env.action_space.sample())\n",
    "        total_reward += reward\n",
    "        if debug:\n",
    "            print(f\"Score: {info['score']}, Time: {info['time']}, FPS: {info['fps']}, \"\n",
    "                  f\"Terminated: {terminated}, Truncated: {truncated}\")\n",
    "        \n",
    "    # Show results\n",
    "    print(f\"Total reward for episode {ep} is {total_reward}\")"
   ]
  },
  {
   "cell_type": "code",
   "execution_count": 18,
   "id": "37ad13a7-8912-4e61-83d1-f53f6e739ff8",
   "metadata": {},
   "outputs": [
    {
     "name": "stdout",
     "output_type": "stream",
     "text": [
      "Total reward for episode 0 is -151.2\n",
      "Total reward for episode 1 is -150.60000000000002\n",
      "Total reward for episode 2 is -110.1\n",
      "Total reward for episode 3 is -120.0\n",
      "Total reward for episode 4 is -110.1\n"
     ]
    }
   ],
   "source": [
    "# Test if game runs while lid is closed\n",
    "# Should receive consistent ~ -1 m scores\n",
    "num_tests = 5\n",
    "for ep in range(num_tests):\n",
    "    \n",
    "    # Initialize game\n",
    "    obs, info = env.reset()\n",
    "    terminated = False\n",
    "    truncated = False\n",
    "    total_reward = 0\n",
    "    action = 4\n",
    "    \n",
    "    # Do a single game loop\n",
    "    while not terminated and not truncated:\n",
    "        \n",
    "        # Hold 'q' and 'p' to fall backward\n",
    "        obs, reward, terminated, truncated, info = env.step(action)\n",
    "        total_reward += reward\n",
    "        if action == 1:\n",
    "            action = 4\n",
    "        else:\n",
    "            action = 1\n",
    "        if debug:\n",
    "            print(f\"Score: {info['score']}, Time: {info['time']}, \"\n",
    "                  f\"Terminated: {terminated}, Truncated: {truncated}\")\n",
    "        \n",
    "    # Show results\n",
    "    print(f\"Total reward for episode {ep} is {total_reward}\")"
   ]
  },
  {
   "cell_type": "code",
   "execution_count": 20,
   "id": "e4077fec-0a83-48e7-8b2c-4b279790f24f",
   "metadata": {},
   "outputs": [],
   "source": [
    "# Final environment check to make sure it works with Stable-Baselines3\n",
    "env_checker.check_env(env)"
   ]
  },
  {
   "cell_type": "markdown",
   "id": "735a7fac-1a00-49f8-ac84-1e6c8ef98abf",
   "metadata": {
    "tags": []
   },
   "source": [
    "## Checkpoint callback\n",
    "\n",
    "We'll create a custom callback for Stable Baselines3 that saves the model every n steps. This helps us recover from an error, disconnect, or power loss."
   ]
  },
  {
   "cell_type": "code",
   "execution_count": 21,
   "id": "3ad7a9b2-4109-4ec5-9839-454fda10ccb6",
   "metadata": {},
   "outputs": [],
   "source": [
    "class SaveCheckpointCallback(BaseCallback):\n",
    "    \"\"\"\n",
    "    Save the model every ``check_freq`` steps\n",
    "    \n",
    "    More information: https://stable-baselines3.readthedocs.io/en/master/guide/callbacks.html\n",
    "    \"\"\"\n",
    "    \n",
    "    # Constructor\n",
    "    def __init__(self, check_freq, save_dir, verbose=1):\n",
    "        super(SaveCheckpointCallback, self).__init__(verbose)\n",
    "        self.check_freq = check_freq\n",
    "        self.save_dir = save_dir\n",
    "        \n",
    "    # Create directory for saving the models\n",
    "    def _init_callback(self):\n",
    "        if self.save_dir is not None:\n",
    "            os.makedirs(self.save_dir, exist_ok=True)\n",
    "            \n",
    "    # Save model every check_freq steps\n",
    "    def _on_step(self):\n",
    "        if self.n_calls % self.check_freq == 0:\n",
    "            model_path = os.path.join(self.save_dir, f\"model_{self.n_calls}\")\n",
    "            self.model.save(model_path)\n",
    "        return True"
   ]
  },
  {
   "cell_type": "code",
   "execution_count": 22,
   "id": "c3d3e2aa-535a-4601-bb8d-ddba38cdc810",
   "metadata": {},
   "outputs": [],
   "source": [
    "# Set up checkpoint callback\n",
    "checkpoint_callback = SaveCheckpointCallback(\n",
    "    check_freq=CHECKPOINT_FREQ, \n",
    "    save_dir=CHECKPOINT_DIR,\n",
    "    verbose=1\n",
    ")"
   ]
  },
  {
   "cell_type": "markdown",
   "id": "99571557-1569-46a3-ad12-c7a4c83e7cfa",
   "metadata": {},
   "source": [
    "## Custom logger\n",
    "\n",
    "I'm going to use Weights & Biases for logging so I can view the training progress remotely. See the [Logger documentation](https://stable-baselines3.readthedocs.io/en/master/common/logger.html) and [integration examples](https://github.com/DLR-RM/stable-baselines3/blob/master/docs/guide/integrations.rst) for how to create a custom writer.\n",
    "\n",
    "Feel free to use a different method for logging, such as TensorBoard. See [here](https://stable-baselines3.readthedocs.io/en/master/guide/tensorboard.html) for how to set up TensorBoard."
   ]
  },
  {
   "cell_type": "code",
   "execution_count": 23,
   "id": "122520ff-e391-4e89-bc20-ff7bb453bd44",
   "metadata": {},
   "outputs": [],
   "source": [
    "class WandBWriter(KVWriter):\n",
    "    \"\"\"\n",
    "    Log metrics to Weights & Biases when called by .learn()\n",
    "    \n",
    "    More info: https://stable-baselines3.readthedocs.io/en/master/_modules/stable_baselines3/common/logger.html#KVWriter\n",
    "    \"\"\"\n",
    "    \n",
    "    # Initialize run\n",
    "    def __init__(self, run, verbose=1):\n",
    "        super().__init__()\n",
    "        self.run = run\n",
    "        self.verbose = verbose\n",
    "\n",
    "    # Write metrics to W&B project\n",
    "    def write(self, \n",
    "              key_values: Dict[str, Any], \n",
    "              key_excluded: Dict[str, Union[str, Tuple[str, ...]]], \n",
    "              step: int = 0) -> None:\n",
    "        log_dict = {}\n",
    "        \n",
    "        # Go through each key/value pairs\n",
    "        for (key, value), (_, excluded) in zip(\n",
    "            sorted(key_values.items()), sorted(key_excluded.items())):\n",
    "            \n",
    "            if self.verbose >= 2:\n",
    "                print(f\"step={step} | {key} : {value} ({type(value)})\")\n",
    "            \n",
    "            # Skip excluded items\n",
    "            if excluded is not None and \"wandb\" in excluded:\n",
    "                continue\n",
    "                \n",
    "            # Log integers and floats\n",
    "            if isinstance(value, np.ScalarType):\n",
    "                if not isinstance(value, str):\n",
    "                    wandb.log(data={key: value}, step=step)\n",
    "                    log_dict[key] = value\n",
    "                \n",
    "        # Print to console\n",
    "        if self.verbose >= 1:\n",
    "            print(f\"Log for steps={step}\")\n",
    "            print(f\"--------------\")\n",
    "            for (key, value) in sorted(log_dict.items()):\n",
    "                print(f\"  {key}: {value}\")\n",
    "            print()\n",
    "                \n",
    "    # Close the W&B run\n",
    "    def close(self) -> None:\n",
    "        self.run.finish()"
   ]
  },
  {
   "cell_type": "code",
   "execution_count": 39,
   "id": "0db30a32-0807-4f5a-b38c-265aa44bb775",
   "metadata": {},
   "outputs": [
    {
     "data": {
      "text/plain": [
       "True"
      ]
     },
     "execution_count": 39,
     "metadata": {},
     "output_type": "execute_result"
    }
   ],
   "source": [
    "# Log in to Weights & Biases\n",
    "wandb.login()"
   ]
  },
  {
   "cell_type": "code",
   "execution_count": 40,
   "id": "a48c03a8-0b04-46a5-accb-e301009dceca",
   "metadata": {},
   "outputs": [
    {
     "data": {
      "text/html": [
       "wandb version 0.15.2 is available!  To upgrade, please run:\n",
       " $ pip install wandb --upgrade"
      ],
      "text/plain": [
       "<IPython.core.display.HTML object>"
      ]
     },
     "metadata": {},
     "output_type": "display_data"
    },
    {
     "data": {
      "text/html": [
       "Tracking run with wandb version 0.15.0"
      ],
      "text/plain": [
       "<IPython.core.display.HTML object>"
      ]
     },
     "metadata": {},
     "output_type": "display_data"
    },
    {
     "data": {
      "text/html": [
       "Run data is saved locally in <code>D:\\Projects\\GitHub\\qwop-ai\\wandb\\run-20230507_232910-8yhlbhqk</code>"
      ],
      "text/plain": [
       "<IPython.core.display.HTML object>"
      ]
     },
     "metadata": {},
     "output_type": "display_data"
    },
    {
     "data": {
      "text/html": [
       "Syncing run <strong><a href='https://wandb.ai/shawnhymel/qwop/runs/8yhlbhqk' target=\"_blank\">2023-05-08 05:29:10</a></strong> to <a href='https://wandb.ai/shawnhymel/qwop' target=\"_blank\">Weights & Biases</a> (<a href='https://wandb.me/run' target=\"_blank\">docs</a>)<br/>"
      ],
      "text/plain": [
       "<IPython.core.display.HTML object>"
      ]
     },
     "metadata": {},
     "output_type": "display_data"
    },
    {
     "data": {
      "text/html": [
       " View project at <a href='https://wandb.ai/shawnhymel/qwop' target=\"_blank\">https://wandb.ai/shawnhymel/qwop</a>"
      ],
      "text/plain": [
       "<IPython.core.display.HTML object>"
      ]
     },
     "metadata": {},
     "output_type": "display_data"
    },
    {
     "data": {
      "text/html": [
       " View run at <a href='https://wandb.ai/shawnhymel/qwop/runs/8yhlbhqk' target=\"_blank\">https://wandb.ai/shawnhymel/qwop/runs/8yhlbhqk</a>"
      ],
      "text/plain": [
       "<IPython.core.display.HTML object>"
      ]
     },
     "metadata": {},
     "output_type": "display_data"
    },
    {
     "name": "stdout",
     "output_type": "stream",
     "text": [
      "WandB run ID: 8yhlbhqk\n",
      "WandB run name: 2023-05-08 05:29:10\n"
     ]
    }
   ],
   "source": [
    "# Create new W&B run\n",
    "config = {}\n",
    "dt = datetime.datetime.now(datetime.timezone.utc)\n",
    "dt = dt.replace(microsecond=0, tzinfo=None)\n",
    "run = wandb.init(project=WANDB_PROJECT, name=str(dt), config=config)\n",
    "\n",
    "# Print run info\n",
    "print(f\"WandB run ID: {run.id}\")\n",
    "print(f\"WandB run name: {run.name}\") "
   ]
  },
  {
   "cell_type": "code",
   "execution_count": 41,
   "id": "97feb0d2-9409-4fbd-9388-89e53b37882c",
   "metadata": {},
   "outputs": [],
   "source": [
    "# Set custom logger with our custom writer\n",
    "wandb_writer = WandBWriter(run, verbose=0)\n",
    "loggers = Logger(\n",
    "    folder=None,\n",
    "    output_formats=[wandb_writer]\n",
    ")"
   ]
  },
  {
   "cell_type": "markdown",
   "id": "dd3b5922-6030-4abb-8296-0d3dc73ce7f9",
   "metadata": {
    "tags": []
   },
   "source": [
    "## Train Model"
   ]
  },
  {
   "cell_type": "code",
   "execution_count": 26,
   "id": "67218cc3-c737-4205-b030-669711ddae12",
   "metadata": {},
   "outputs": [
    {
     "ename": "Error",
     "evalue": "You must call wandb.init() before wandb.config.update",
     "output_type": "error",
     "traceback": [
      "\u001b[1;31m---------------------------------------------------------------------------\u001b[0m",
      "\u001b[1;31mError\u001b[0m                                     Traceback (most recent call last)",
      "Cell \u001b[1;32mIn[26], line 13\u001b[0m\n\u001b[0;32m      2\u001b[0m hparams \u001b[38;5;241m=\u001b[39m {\n\u001b[0;32m      3\u001b[0m     \u001b[38;5;124m\"\u001b[39m\u001b[38;5;124mepisode_timeout\u001b[39m\u001b[38;5;124m\"\u001b[39m: \u001b[38;5;241m300\u001b[39m,\n\u001b[0;32m      4\u001b[0m     \u001b[38;5;124m\"\u001b[39m\u001b[38;5;124mlearning_rate\u001b[39m\u001b[38;5;124m\"\u001b[39m: \u001b[38;5;241m0.0001\u001b[39m,\n\u001b[1;32m   (...)\u001b[0m\n\u001b[0;32m      9\u001b[0m     \u001b[38;5;124m\"\u001b[39m\u001b[38;5;124mnotes\u001b[39m\u001b[38;5;124m\"\u001b[39m: \u001b[38;5;124m\"\u001b[39m\u001b[38;5;124mSeparate key press/release actions. Scooting penalty added.\u001b[39m\u001b[38;5;124m\"\u001b[39m\n\u001b[0;32m     10\u001b[0m }\n\u001b[0;32m     12\u001b[0m \u001b[38;5;66;03m# Log hyperparameters to W&B\u001b[39;00m\n\u001b[1;32m---> 13\u001b[0m \u001b[43mwandb\u001b[49m\u001b[38;5;241;43m.\u001b[39;49m\u001b[43mconfig\u001b[49m\u001b[38;5;241;43m.\u001b[39;49m\u001b[43mupdate\u001b[49m(hparams)\n",
      "File \u001b[1;32m~\\anaconda3\\envs\\pytorch-gpu\\lib\\site-packages\\wandb\\sdk\\lib\\preinit.py:27\u001b[0m, in \u001b[0;36mPreInitObject.__getattr__\u001b[1;34m(self, key)\u001b[0m\n\u001b[0;32m     25\u001b[0m \u001b[38;5;28;01mdef\u001b[39;00m \u001b[38;5;21m__getattr__\u001b[39m(\u001b[38;5;28mself\u001b[39m, key: \u001b[38;5;28mstr\u001b[39m) \u001b[38;5;241m-\u001b[39m\u001b[38;5;241m>\u001b[39m Any:\n\u001b[0;32m     26\u001b[0m     \u001b[38;5;28;01mif\u001b[39;00m \u001b[38;5;129;01mnot\u001b[39;00m key\u001b[38;5;241m.\u001b[39mstartswith(\u001b[38;5;124m\"\u001b[39m\u001b[38;5;124m_\u001b[39m\u001b[38;5;124m\"\u001b[39m):\n\u001b[1;32m---> 27\u001b[0m         \u001b[38;5;28;01mraise\u001b[39;00m wandb\u001b[38;5;241m.\u001b[39mError(\u001b[38;5;124mf\u001b[39m\u001b[38;5;124m\"\u001b[39m\u001b[38;5;124mYou must call wandb.init() before \u001b[39m\u001b[38;5;132;01m{\u001b[39;00m\u001b[38;5;28mself\u001b[39m\u001b[38;5;241m.\u001b[39m_name\u001b[38;5;132;01m}\u001b[39;00m\u001b[38;5;124m.\u001b[39m\u001b[38;5;132;01m{\u001b[39;00mkey\u001b[38;5;132;01m}\u001b[39;00m\u001b[38;5;124m\"\u001b[39m)\n\u001b[0;32m     28\u001b[0m     \u001b[38;5;28;01melse\u001b[39;00m:\n\u001b[0;32m     29\u001b[0m         \u001b[38;5;28;01mraise\u001b[39;00m \u001b[38;5;167;01mAttributeError\u001b[39;00m\n",
      "\u001b[1;31mError\u001b[0m: You must call wandb.init() before wandb.config.update"
     ]
    }
   ],
   "source": [
    "# Hyperparameters\n",
    "hparams = {\n",
    "    \"episode_timeout\": 300,\n",
    "    \"learning_rate\": 0.0001,\n",
    "    \"steps_per_update\": 512,\n",
    "    \"total_timesteps\": 100_000,\n",
    "    \"num_actions\": len(ACTIONS_MAP),\n",
    "    \"model_name\": \"qwop_model_v03\",\n",
    "    \"notes\": \"Separate key press/release actions. Scooting penalty added.\"\n",
    "}\n",
    "\n",
    "# Log hyperparameters to W&B\n",
    "wandb.config.update(hparams)"
   ]
  },
  {
   "cell_type": "code",
   "execution_count": 43,
   "id": "48db5418-3b56-4ec6-89d0-66a984b7d755",
   "metadata": {},
   "outputs": [],
   "source": [
    "# Create our environment with a timeout for training\n",
    "try:\n",
    "    env.close()\n",
    "except NameError:\n",
    "    pass\n",
    "env = WebGame(timeout=hparams[\"episode_timeout\"], disp_scale=DISP_SCALE_FACTOR, show_fps=True)"
   ]
  },
  {
   "cell_type": "code",
   "execution_count": 44,
   "id": "cc8dcdd2-9592-4ccc-90a2-160aaaefee99",
   "metadata": {},
   "outputs": [],
   "source": [
    "# Create model\n",
    "# More information: https://stable-baselines3.readthedocs.io/en/master/modules/ppo.html\n",
    "model = PPO('CnnPolicy', \n",
    "            env, \n",
    "            verbose=0,\n",
    "            learning_rate=hparams[\"learning_rate\"], \n",
    "            n_steps=hparams[\"steps_per_update\"])"
   ]
  },
  {
   "cell_type": "code",
   "execution_count": 45,
   "id": "0bbfd7bd-f03b-474b-9d3c-562ceb3234aa",
   "metadata": {},
   "outputs": [
    {
     "data": {
      "text/plain": [
       "<stable_baselines3.ppo.ppo.PPO at 0x1a81ccbf580>"
      ]
     },
     "execution_count": 45,
     "metadata": {},
     "output_type": "execute_result"
    }
   ],
   "source": [
    "# Choo choo train!\n",
    "# total_timesteps: take at least this many steps, will st op on multiple of n_steps in PPO\n",
    "# Host tensorboard on LAN: tensorboard --host 0.0.0.0 --logdir logs\\PPO_n\n",
    "# (But note that we're using Weights & Biases for remote logging instead)\n",
    "# About logs: https://stable-baselines3.readthedocs.ioqqp/en/master/common/logger.html\n",
    "# About plots: https://medium.com/aureliantactics/understanding-ppo-plots-in-tensorboard-cbc3199b9ba2\n",
    "model.set_logger(loggers)\n",
    "model.learn(total_timesteps=hparams[\"total_timesteps\"], \n",
    "            callback=[checkpoint_callback])"
   ]
  },
  {
   "cell_type": "code",
   "execution_count": 46,
   "id": "6b301248-f7ba-4caa-b401-7c205924ed98",
   "metadata": {
    "tags": []
   },
   "outputs": [
    {
     "data": {
      "text/html": [
       "Waiting for W&B process to finish... <strong style=\"color:green\">(success).</strong>"
      ],
      "text/plain": [
       "<IPython.core.display.HTML object>"
      ]
     },
     "metadata": {},
     "output_type": "display_data"
    },
    {
     "data": {
      "application/vnd.jupyter.widget-view+json": {
       "model_id": "0dc0a80443ec4dd7a1121f8e56b2d700",
       "version_major": 2,
       "version_minor": 0
      },
      "text/plain": [
       "VBox(children=(Label(value='0.001 MB of 0.006 MB uploaded (0.000 MB deduped)\\r'), FloatProgress(value=0.205819…"
      ]
     },
     "metadata": {},
     "output_type": "display_data"
    },
    {
     "data": {
      "text/html": [
       "<style>\n",
       "    table.wandb td:nth-child(1) { padding: 0 10px; text-align: left ; width: auto;} td:nth-child(2) {text-align: left ; width: 100%}\n",
       "    .wandb-row { display: flex; flex-direction: row; flex-wrap: wrap; justify-content: flex-start; width: 100% }\n",
       "    .wandb-col { display: flex; flex-direction: column; flex-basis: 100%; flex: 1; padding: 10px; }\n",
       "    </style>\n",
       "<div class=\"wandb-row\"><div class=\"wandb-col\"><h3>Run history:</h3><br/><table class=\"wandb\"><tr><td>rollout/ep_len_mean</td><td>▁▁▁▂▂▂▂▃▄▄▄▄▅▅▆▆▇▇████▇▇▇▇▆▆▆▆▆▆▆▆▆▆▆▆▆▆</td></tr><tr><td>rollout/ep_rew_mean</td><td>██▇▇▆▆▅▄▄▄▄▄▄▃▃▂▁▁▁▁▂▃▃▄▅▆▇▇████████████</td></tr><tr><td>time/fps</td><td>▁▁██████████████████████████████████████</td></tr><tr><td>time/iterations</td><td>▁▁▁▂▂▂▂▂▂▃▃▃▃▃▃▄▄▄▄▄▅▅▅▅▅▅▆▆▆▆▆▇▇▇▇▇▇███</td></tr><tr><td>time/time_elapsed</td><td>▁▁▁▂▂▂▂▂▂▃▃▃▃▃▃▄▄▄▄▄▅▅▅▅▅▅▆▆▆▆▆▇▇▇▇▇▇███</td></tr><tr><td>time/total_timesteps</td><td>▁▁▁▂▂▂▂▂▂▃▃▃▃▃▃▄▄▄▄▄▅▅▅▅▅▅▆▆▆▆▆▇▇▇▇▇▇███</td></tr><tr><td>train/approx_kl</td><td>▄▃▂█▃▁▁▂▁▁▁▁▁▁▁▁▂▁▁▁▁▁▁▁▁▁▁▁▁▁▁▁▁▂▁▂▁▁▁▁</td></tr><tr><td>train/clip_fraction</td><td>▇█▄▅▅▂▂▁▁▁▁▁▁▂▁▁▁▁▂▁▁▁▁▁▁▁▁▁▁▁▁▁▂▂▂▃▂▂▂▂</td></tr><tr><td>train/clip_range</td><td>▁▁▁▁▁▁▁▁▁▁▁▁▁▁▁▁▁▁▁▁▁▁▁▁▁▁▁▁▁▁▁▁▁▁▁▁▁▁▁▁</td></tr><tr><td>train/entropy_loss</td><td>▁▂▃▅▅▇▇██▇▇█▇▇▇▇██▇▇████████████▇▇███▇▇▇</td></tr><tr><td>train/explained_variance</td><td>▆▆▇▇▆█▅████▆█▁████▅█████████████████████</td></tr><tr><td>train/learning_rate</td><td>▁▁▁▁▁▁▁▁▁▁▁▁▁▁▁▁▁▁▁▁▁▁▁▁▁▁▁▁▁▁▁▁▁▁▁▁▁▁▁▁</td></tr><tr><td>train/loss</td><td>█▁▁▁▁▁▁▁▁▂▂▁▂▁▂▁▁▂▁▂▂▂▂▁▂▁▂▂▂▂▂▂▁▁▁▁▁▁▁▂</td></tr><tr><td>train/n_updates</td><td>▁▁▁▂▂▂▂▂▂▃▃▃▃▃▃▄▄▄▄▄▅▅▅▅▅▅▆▆▆▆▆▇▇▇▇▇▇███</td></tr><tr><td>train/policy_gradient_loss</td><td>█▆▅▅▁▃▆▄▄▃▃▄▄▄▄▃▄▄▇▄▄▄▄▄▄▄▄▃▄▄▄▅▄▄▄▃▅▃▄▄</td></tr><tr><td>train/value_loss</td><td>█▁▁▁▁▁▁▁▁▁▁▁▁▁▁▁▁▁▁▁▁▁▁▁▁▁▁▁▁▁▁▁▁▁▁▁▁▁▁▁</td></tr></table><br/></div><div class=\"wandb-col\"><h3>Run summary:</h3><br/><table class=\"wandb\"><tr><td>rollout/ep_len_mean</td><td>266.65</td></tr><tr><td>rollout/ep_rew_mean</td><td>-113.929</td></tr><tr><td>time/fps</td><td>3</td></tr><tr><td>time/iterations</td><td>196</td></tr><tr><td>time/time_elapsed</td><td>30517</td></tr><tr><td>time/total_timesteps</td><td>100352</td></tr><tr><td>train/approx_kl</td><td>0.00378</td></tr><tr><td>train/clip_fraction</td><td>0.05527</td></tr><tr><td>train/clip_range</td><td>0.2</td></tr><tr><td>train/entropy_loss</td><td>-0.23212</td></tr><tr><td>train/explained_variance</td><td>0.97093</td></tr><tr><td>train/learning_rate</td><td>0.0001</td></tr><tr><td>train/loss</td><td>14.49681</td></tr><tr><td>train/n_updates</td><td>1950</td></tr><tr><td>train/policy_gradient_loss</td><td>-3e-05</td></tr><tr><td>train/value_loss</td><td>17.75787</td></tr></table><br/></div></div>"
      ],
      "text/plain": [
       "<IPython.core.display.HTML object>"
      ]
     },
     "metadata": {},
     "output_type": "display_data"
    },
    {
     "data": {
      "text/html": [
       " View run <strong style=\"color:#cdcd00\">2023-05-08 05:29:10</strong> at: <a href='https://wandb.ai/shawnhymel/qwop/runs/8yhlbhqk' target=\"_blank\">https://wandb.ai/shawnhymel/qwop/runs/8yhlbhqk</a><br/>Synced 5 W&B file(s), 0 media file(s), 0 artifact file(s) and 0 other file(s)"
      ],
      "text/plain": [
       "<IPython.core.display.HTML object>"
      ]
     },
     "metadata": {},
     "output_type": "display_data"
    },
    {
     "data": {
      "text/html": [
       "Find logs at: <code>.\\wandb\\run-20230507_232910-8yhlbhqk\\logs</code>"
      ],
      "text/plain": [
       "<IPython.core.display.HTML object>"
      ]
     },
     "metadata": {},
     "output_type": "display_data"
    }
   ],
   "source": [
    "# Exit environment and close W&B run\n",
    "env.close()\n",
    "run.finish()"
   ]
  },
  {
   "cell_type": "code",
   "execution_count": 47,
   "id": "c18ba961-be85-409a-9d67-d9ffbfb10d4e",
   "metadata": {},
   "outputs": [],
   "source": [
    "# Save final model\n",
    "model.save(hparams[\"model_name\"])"
   ]
  },
  {
   "cell_type": "markdown",
   "id": "6b5f1f3b-1f4e-4853-b8b6-5c2f22b854db",
   "metadata": {},
   "source": [
    "## Test model"
   ]
  },
  {
   "cell_type": "code",
   "execution_count": 44,
   "id": "c1aa5e16-52f2-4aec-b10c-466114ca6a83",
   "metadata": {},
   "outputs": [],
   "source": [
    "# Create our environment for testing\n",
    "try:\n",
    "    env.close()\n",
    "except NameError:\n",
    "    pass\n",
    "env = WebGame(timeout=30.0, disp_scale=DISP_SCALE_FACTOR, show_fps=True)"
   ]
  },
  {
   "cell_type": "code",
   "execution_count": 45,
   "id": "2e1c3e2e-3d47-4174-bf18-fd6f9f7a8a77",
   "metadata": {},
   "outputs": [
    {
     "name": "stdout",
     "output_type": "stream",
     "text": [
      "== CURRENT SYSTEM INFO ==\n",
      "- OS: Windows-10-10.0.22621-SP0 10.0.22621\n",
      "- Python: 3.10.10\n",
      "- Stable-Baselines3: 2.0.0a1\n",
      "- PyTorch: 2.0.0\n",
      "- GPU Enabled: True\n",
      "- Numpy: 1.23.5\n",
      "- Gym: 0.28.1\n",
      "\n",
      "== SAVED MODEL SYSTEM INFO ==\n",
      "- OS: Windows-10-10.0.22621-SP0 10.0.22621\n",
      "- Python: 3.10.10\n",
      "- Stable-Baselines3: 2.0.0a1\n",
      "- PyTorch: 2.0.0\n",
      "- GPU Enabled: True\n",
      "- Numpy: 1.23.5\n",
      "- Gym: 0.28.1\n",
      "\n"
     ]
    }
   ],
   "source": [
    "# Load model (use final model or any checkpoint)\n",
    "model = PPO.load(\n",
    "    os.path.join(\".\", \"qwop_model_v03\"),\n",
    "    # os.path.join(\".\", hparams[\"model_name\"]), \n",
    "    env=env, \n",
    "    print_system_info=True\n",
    ")"
   ]
  },
  {
   "cell_type": "code",
   "execution_count": 46,
   "id": "52e74383-8d19-455b-8137-13e8b62a60b1",
   "metadata": {},
   "outputs": [
    {
     "name": "stdout",
     "output_type": "stream",
     "text": [
      "Episode 0 | Steps: 81, Total reward: -0.7999999999999999\n"
     ]
    },
    {
     "ename": "KeyboardInterrupt",
     "evalue": "",
     "output_type": "error",
     "traceback": [
      "\u001b[1;31m---------------------------------------------------------------------------\u001b[0m",
      "\u001b[1;31mKeyboardInterrupt\u001b[0m                         Traceback (most recent call last)",
      "Cell \u001b[1;32mIn[46], line 14\u001b[0m\n\u001b[0;32m     12\u001b[0m \u001b[38;5;28;01mwhile\u001b[39;00m \u001b[38;5;129;01mnot\u001b[39;00m terminated \u001b[38;5;129;01mand\u001b[39;00m \u001b[38;5;129;01mnot\u001b[39;00m truncated:\n\u001b[0;32m     13\u001b[0m     action, _ \u001b[38;5;241m=\u001b[39m model\u001b[38;5;241m.\u001b[39mpredict(obs)\n\u001b[1;32m---> 14\u001b[0m     obs, reward, terminated, truncated, info \u001b[38;5;241m=\u001b[39m \u001b[43menv\u001b[49m\u001b[38;5;241;43m.\u001b[39;49m\u001b[43mstep\u001b[49m\u001b[43m(\u001b[49m\u001b[38;5;28;43mint\u001b[39;49m\u001b[43m(\u001b[49m\u001b[43maction\u001b[49m\u001b[43m)\u001b[49m\u001b[43m)\u001b[49m\n\u001b[0;32m     15\u001b[0m     total_reward \u001b[38;5;241m+\u001b[39m\u001b[38;5;241m=\u001b[39m reward\n\u001b[0;32m     16\u001b[0m     step_count \u001b[38;5;241m+\u001b[39m\u001b[38;5;241m=\u001b[39m \u001b[38;5;241m1\u001b[39m\n",
      "Cell \u001b[1;32mIn[36], line 86\u001b[0m, in \u001b[0;36mWebGame.step\u001b[1;34m(self, action)\u001b[0m\n\u001b[0;32m     83\u001b[0m reward \u001b[38;5;241m=\u001b[39m \u001b[38;5;28mself\u001b[39m\u001b[38;5;241m.\u001b[39mscore \u001b[38;5;241m-\u001b[39m prev_score\n\u001b[0;32m     85\u001b[0m \u001b[38;5;66;03m# Check if done\u001b[39;00m\n\u001b[1;32m---> 86\u001b[0m terminated \u001b[38;5;241m=\u001b[39m \u001b[38;5;28;43mself\u001b[39;49m\u001b[38;5;241;43m.\u001b[39;49m\u001b[43mget_done\u001b[49m\u001b[43m(\u001b[49m\u001b[43m)\u001b[49m\n\u001b[0;32m     88\u001b[0m \u001b[38;5;66;03m# Penalize agent for letting head drop below a given row to discourage \"scooting\"\u001b[39;00m\n\u001b[0;32m     89\u001b[0m head_row \u001b[38;5;241m=\u001b[39m \u001b[38;5;28mself\u001b[39m\u001b[38;5;241m.\u001b[39mget_head_row()\n",
      "Cell \u001b[1;32mIn[36], line 257\u001b[0m, in \u001b[0;36mWebGame.get_done\u001b[1;34m(self)\u001b[0m\n\u001b[0;32m    254\u001b[0m done_img \u001b[38;5;241m=\u001b[39m cv2\u001b[38;5;241m.\u001b[39mcvtColor(done_img, cv2\u001b[38;5;241m.\u001b[39mCOLOR_BGR2RGB)\n\u001b[0;32m    256\u001b[0m \u001b[38;5;66;03m# Do OCR to see if game is over\u001b[39;00m\n\u001b[1;32m--> 257\u001b[0m ocr_str \u001b[38;5;241m=\u001b[39m \u001b[43mpytesseract\u001b[49m\u001b[38;5;241;43m.\u001b[39;49m\u001b[43mimage_to_string\u001b[49m\u001b[43m(\u001b[49m\u001b[43mdone_img\u001b[49m\u001b[43m)\u001b[49m\u001b[38;5;241m.\u001b[39mstrip()\n\u001b[0;32m    258\u001b[0m done \u001b[38;5;241m=\u001b[39m \u001b[38;5;28;01mFalse\u001b[39;00m\n\u001b[0;32m    259\u001b[0m \u001b[38;5;28;01mif\u001b[39;00m ocr_str:\n",
      "File \u001b[1;32m~\\anaconda3\\envs\\pytorch-gpu\\lib\\site-packages\\pytesseract\\pytesseract.py:423\u001b[0m, in \u001b[0;36mimage_to_string\u001b[1;34m(image, lang, config, nice, output_type, timeout)\u001b[0m\n\u001b[0;32m    418\u001b[0m \u001b[38;5;250m\u001b[39m\u001b[38;5;124;03m\"\"\"\u001b[39;00m\n\u001b[0;32m    419\u001b[0m \u001b[38;5;124;03mReturns the result of a Tesseract OCR run on the provided image to string\u001b[39;00m\n\u001b[0;32m    420\u001b[0m \u001b[38;5;124;03m\"\"\"\u001b[39;00m\n\u001b[0;32m    421\u001b[0m args \u001b[38;5;241m=\u001b[39m [image, \u001b[38;5;124m'\u001b[39m\u001b[38;5;124mtxt\u001b[39m\u001b[38;5;124m'\u001b[39m, lang, config, nice, timeout]\n\u001b[1;32m--> 423\u001b[0m \u001b[38;5;28;01mreturn\u001b[39;00m \u001b[43m{\u001b[49m\n\u001b[0;32m    424\u001b[0m \u001b[43m    \u001b[49m\u001b[43mOutput\u001b[49m\u001b[38;5;241;43m.\u001b[39;49m\u001b[43mBYTES\u001b[49m\u001b[43m:\u001b[49m\u001b[43m \u001b[49m\u001b[38;5;28;43;01mlambda\u001b[39;49;00m\u001b[43m:\u001b[49m\u001b[43m \u001b[49m\u001b[43mrun_and_get_output\u001b[49m\u001b[43m(\u001b[49m\u001b[38;5;241;43m*\u001b[39;49m\u001b[43m(\u001b[49m\u001b[43margs\u001b[49m\u001b[43m \u001b[49m\u001b[38;5;241;43m+\u001b[39;49m\u001b[43m \u001b[49m\u001b[43m[\u001b[49m\u001b[38;5;28;43;01mTrue\u001b[39;49;00m\u001b[43m]\u001b[49m\u001b[43m)\u001b[49m\u001b[43m)\u001b[49m\u001b[43m,\u001b[49m\n\u001b[0;32m    425\u001b[0m \u001b[43m    \u001b[49m\u001b[43mOutput\u001b[49m\u001b[38;5;241;43m.\u001b[39;49m\u001b[43mDICT\u001b[49m\u001b[43m:\u001b[49m\u001b[43m \u001b[49m\u001b[38;5;28;43;01mlambda\u001b[39;49;00m\u001b[43m:\u001b[49m\u001b[43m \u001b[49m\u001b[43m{\u001b[49m\u001b[38;5;124;43m'\u001b[39;49m\u001b[38;5;124;43mtext\u001b[39;49m\u001b[38;5;124;43m'\u001b[39;49m\u001b[43m:\u001b[49m\u001b[43m \u001b[49m\u001b[43mrun_and_get_output\u001b[49m\u001b[43m(\u001b[49m\u001b[38;5;241;43m*\u001b[39;49m\u001b[43margs\u001b[49m\u001b[43m)\u001b[49m\u001b[43m}\u001b[49m\u001b[43m,\u001b[49m\n\u001b[0;32m    426\u001b[0m \u001b[43m    \u001b[49m\u001b[43mOutput\u001b[49m\u001b[38;5;241;43m.\u001b[39;49m\u001b[43mSTRING\u001b[49m\u001b[43m:\u001b[49m\u001b[43m \u001b[49m\u001b[38;5;28;43;01mlambda\u001b[39;49;00m\u001b[43m:\u001b[49m\u001b[43m \u001b[49m\u001b[43mrun_and_get_output\u001b[49m\u001b[43m(\u001b[49m\u001b[38;5;241;43m*\u001b[39;49m\u001b[43margs\u001b[49m\u001b[43m)\u001b[49m\u001b[43m,\u001b[49m\n\u001b[0;32m    427\u001b[0m \u001b[43m\u001b[49m\u001b[43m}\u001b[49m\u001b[43m[\u001b[49m\u001b[43moutput_type\u001b[49m\u001b[43m]\u001b[49m\u001b[43m(\u001b[49m\u001b[43m)\u001b[49m\n",
      "File \u001b[1;32m~\\anaconda3\\envs\\pytorch-gpu\\lib\\site-packages\\pytesseract\\pytesseract.py:426\u001b[0m, in \u001b[0;36mimage_to_string.<locals>.<lambda>\u001b[1;34m()\u001b[0m\n\u001b[0;32m    418\u001b[0m \u001b[38;5;250m\u001b[39m\u001b[38;5;124;03m\"\"\"\u001b[39;00m\n\u001b[0;32m    419\u001b[0m \u001b[38;5;124;03mReturns the result of a Tesseract OCR run on the provided image to string\u001b[39;00m\n\u001b[0;32m    420\u001b[0m \u001b[38;5;124;03m\"\"\"\u001b[39;00m\n\u001b[0;32m    421\u001b[0m args \u001b[38;5;241m=\u001b[39m [image, \u001b[38;5;124m'\u001b[39m\u001b[38;5;124mtxt\u001b[39m\u001b[38;5;124m'\u001b[39m, lang, config, nice, timeout]\n\u001b[0;32m    423\u001b[0m \u001b[38;5;28;01mreturn\u001b[39;00m {\n\u001b[0;32m    424\u001b[0m     Output\u001b[38;5;241m.\u001b[39mBYTES: \u001b[38;5;28;01mlambda\u001b[39;00m: run_and_get_output(\u001b[38;5;241m*\u001b[39m(args \u001b[38;5;241m+\u001b[39m [\u001b[38;5;28;01mTrue\u001b[39;00m])),\n\u001b[0;32m    425\u001b[0m     Output\u001b[38;5;241m.\u001b[39mDICT: \u001b[38;5;28;01mlambda\u001b[39;00m: {\u001b[38;5;124m'\u001b[39m\u001b[38;5;124mtext\u001b[39m\u001b[38;5;124m'\u001b[39m: run_and_get_output(\u001b[38;5;241m*\u001b[39margs)},\n\u001b[1;32m--> 426\u001b[0m     Output\u001b[38;5;241m.\u001b[39mSTRING: \u001b[38;5;28;01mlambda\u001b[39;00m: \u001b[43mrun_and_get_output\u001b[49m\u001b[43m(\u001b[49m\u001b[38;5;241;43m*\u001b[39;49m\u001b[43margs\u001b[49m\u001b[43m)\u001b[49m,\n\u001b[0;32m    427\u001b[0m }[output_type]()\n",
      "File \u001b[1;32m~\\anaconda3\\envs\\pytorch-gpu\\lib\\site-packages\\pytesseract\\pytesseract.py:288\u001b[0m, in \u001b[0;36mrun_and_get_output\u001b[1;34m(image, extension, lang, config, nice, timeout, return_bytes)\u001b[0m\n\u001b[0;32m    277\u001b[0m \u001b[38;5;28;01mwith\u001b[39;00m save(image) \u001b[38;5;28;01mas\u001b[39;00m (temp_name, input_filename):\n\u001b[0;32m    278\u001b[0m     kwargs \u001b[38;5;241m=\u001b[39m {\n\u001b[0;32m    279\u001b[0m         \u001b[38;5;124m'\u001b[39m\u001b[38;5;124minput_filename\u001b[39m\u001b[38;5;124m'\u001b[39m: input_filename,\n\u001b[0;32m    280\u001b[0m         \u001b[38;5;124m'\u001b[39m\u001b[38;5;124moutput_filename_base\u001b[39m\u001b[38;5;124m'\u001b[39m: temp_name,\n\u001b[1;32m   (...)\u001b[0m\n\u001b[0;32m    285\u001b[0m         \u001b[38;5;124m'\u001b[39m\u001b[38;5;124mtimeout\u001b[39m\u001b[38;5;124m'\u001b[39m: timeout,\n\u001b[0;32m    286\u001b[0m     }\n\u001b[1;32m--> 288\u001b[0m     run_tesseract(\u001b[38;5;241m*\u001b[39m\u001b[38;5;241m*\u001b[39mkwargs)\n\u001b[0;32m    289\u001b[0m     filename \u001b[38;5;241m=\u001b[39m \u001b[38;5;124mf\u001b[39m\u001b[38;5;124m\"\u001b[39m\u001b[38;5;132;01m{\u001b[39;00mkwargs[\u001b[38;5;124m'\u001b[39m\u001b[38;5;124moutput_filename_base\u001b[39m\u001b[38;5;124m'\u001b[39m]\u001b[38;5;132;01m}\u001b[39;00m\u001b[38;5;132;01m{\u001b[39;00mextsep\u001b[38;5;132;01m}\u001b[39;00m\u001b[38;5;132;01m{\u001b[39;00mextension\u001b[38;5;132;01m}\u001b[39;00m\u001b[38;5;124m\"\u001b[39m\n\u001b[0;32m    290\u001b[0m     \u001b[38;5;28;01mwith\u001b[39;00m \u001b[38;5;28mopen\u001b[39m(filename, \u001b[38;5;124m'\u001b[39m\u001b[38;5;124mrb\u001b[39m\u001b[38;5;124m'\u001b[39m) \u001b[38;5;28;01mas\u001b[39;00m output_file:\n",
      "File \u001b[1;32m~\\anaconda3\\envs\\pytorch-gpu\\lib\\site-packages\\pytesseract\\pytesseract.py:262\u001b[0m, in \u001b[0;36mrun_tesseract\u001b[1;34m(input_filename, output_filename_base, extension, lang, config, nice, timeout)\u001b[0m\n\u001b[0;32m    259\u001b[0m     \u001b[38;5;28;01melse\u001b[39;00m:\n\u001b[0;32m    260\u001b[0m         \u001b[38;5;28;01mraise\u001b[39;00m TesseractNotFoundError()\n\u001b[1;32m--> 262\u001b[0m \u001b[38;5;28;01mwith\u001b[39;00m timeout_manager(proc, timeout) \u001b[38;5;28;01mas\u001b[39;00m error_string:\n\u001b[0;32m    263\u001b[0m     \u001b[38;5;28;01mif\u001b[39;00m proc\u001b[38;5;241m.\u001b[39mreturncode:\n\u001b[0;32m    264\u001b[0m         \u001b[38;5;28;01mraise\u001b[39;00m TesseractError(proc\u001b[38;5;241m.\u001b[39mreturncode, get_errors(error_string))\n",
      "File \u001b[1;32m~\\anaconda3\\envs\\pytorch-gpu\\lib\\contextlib.py:135\u001b[0m, in \u001b[0;36m_GeneratorContextManager.__enter__\u001b[1;34m(self)\u001b[0m\n\u001b[0;32m    133\u001b[0m \u001b[38;5;28;01mdel\u001b[39;00m \u001b[38;5;28mself\u001b[39m\u001b[38;5;241m.\u001b[39margs, \u001b[38;5;28mself\u001b[39m\u001b[38;5;241m.\u001b[39mkwds, \u001b[38;5;28mself\u001b[39m\u001b[38;5;241m.\u001b[39mfunc\n\u001b[0;32m    134\u001b[0m \u001b[38;5;28;01mtry\u001b[39;00m:\n\u001b[1;32m--> 135\u001b[0m     \u001b[38;5;28;01mreturn\u001b[39;00m \u001b[38;5;28;43mnext\u001b[39;49m\u001b[43m(\u001b[49m\u001b[38;5;28;43mself\u001b[39;49m\u001b[38;5;241;43m.\u001b[39;49m\u001b[43mgen\u001b[49m\u001b[43m)\u001b[49m\n\u001b[0;32m    136\u001b[0m \u001b[38;5;28;01mexcept\u001b[39;00m \u001b[38;5;167;01mStopIteration\u001b[39;00m:\n\u001b[0;32m    137\u001b[0m     \u001b[38;5;28;01mraise\u001b[39;00m \u001b[38;5;167;01mRuntimeError\u001b[39;00m(\u001b[38;5;124m\"\u001b[39m\u001b[38;5;124mgenerator didn\u001b[39m\u001b[38;5;124m'\u001b[39m\u001b[38;5;124mt yield\u001b[39m\u001b[38;5;124m\"\u001b[39m) \u001b[38;5;28;01mfrom\u001b[39;00m \u001b[38;5;28mNone\u001b[39m\n",
      "File \u001b[1;32m~\\anaconda3\\envs\\pytorch-gpu\\lib\\site-packages\\pytesseract\\pytesseract.py:127\u001b[0m, in \u001b[0;36mtimeout_manager\u001b[1;34m(proc, seconds)\u001b[0m\n\u001b[0;32m    125\u001b[0m \u001b[38;5;28;01mtry\u001b[39;00m:\n\u001b[0;32m    126\u001b[0m     \u001b[38;5;28;01mif\u001b[39;00m \u001b[38;5;129;01mnot\u001b[39;00m seconds:\n\u001b[1;32m--> 127\u001b[0m         \u001b[38;5;28;01myield\u001b[39;00m \u001b[43mproc\u001b[49m\u001b[38;5;241;43m.\u001b[39;49m\u001b[43mcommunicate\u001b[49m\u001b[43m(\u001b[49m\u001b[43m)\u001b[49m[\u001b[38;5;241m1\u001b[39m]\n\u001b[0;32m    128\u001b[0m         \u001b[38;5;28;01mreturn\u001b[39;00m\n\u001b[0;32m    130\u001b[0m     \u001b[38;5;28;01mtry\u001b[39;00m:\n",
      "File \u001b[1;32m~\\anaconda3\\envs\\pytorch-gpu\\lib\\subprocess.py:1154\u001b[0m, in \u001b[0;36mPopen.communicate\u001b[1;34m(self, input, timeout)\u001b[0m\n\u001b[0;32m   1151\u001b[0m     endtime \u001b[38;5;241m=\u001b[39m \u001b[38;5;28;01mNone\u001b[39;00m\n\u001b[0;32m   1153\u001b[0m \u001b[38;5;28;01mtry\u001b[39;00m:\n\u001b[1;32m-> 1154\u001b[0m     stdout, stderr \u001b[38;5;241m=\u001b[39m \u001b[38;5;28;43mself\u001b[39;49m\u001b[38;5;241;43m.\u001b[39;49m\u001b[43m_communicate\u001b[49m\u001b[43m(\u001b[49m\u001b[38;5;28;43minput\u001b[39;49m\u001b[43m,\u001b[49m\u001b[43m \u001b[49m\u001b[43mendtime\u001b[49m\u001b[43m,\u001b[49m\u001b[43m \u001b[49m\u001b[43mtimeout\u001b[49m\u001b[43m)\u001b[49m\n\u001b[0;32m   1155\u001b[0m \u001b[38;5;28;01mexcept\u001b[39;00m \u001b[38;5;167;01mKeyboardInterrupt\u001b[39;00m:\n\u001b[0;32m   1156\u001b[0m     \u001b[38;5;66;03m# https://bugs.python.org/issue25942\u001b[39;00m\n\u001b[0;32m   1157\u001b[0m     \u001b[38;5;66;03m# See the detailed comment in .wait().\u001b[39;00m\n\u001b[0;32m   1158\u001b[0m     \u001b[38;5;28;01mif\u001b[39;00m timeout \u001b[38;5;129;01mis\u001b[39;00m \u001b[38;5;129;01mnot\u001b[39;00m \u001b[38;5;28;01mNone\u001b[39;00m:\n",
      "File \u001b[1;32m~\\anaconda3\\envs\\pytorch-gpu\\lib\\subprocess.py:1528\u001b[0m, in \u001b[0;36mPopen._communicate\u001b[1;34m(self, input, endtime, orig_timeout)\u001b[0m\n\u001b[0;32m   1524\u001b[0m \u001b[38;5;66;03m# Wait for the reader threads, or time out.  If we time out, the\u001b[39;00m\n\u001b[0;32m   1525\u001b[0m \u001b[38;5;66;03m# threads remain reading and the fds left open in case the user\u001b[39;00m\n\u001b[0;32m   1526\u001b[0m \u001b[38;5;66;03m# calls communicate again.\u001b[39;00m\n\u001b[0;32m   1527\u001b[0m \u001b[38;5;28;01mif\u001b[39;00m \u001b[38;5;28mself\u001b[39m\u001b[38;5;241m.\u001b[39mstdout \u001b[38;5;129;01mis\u001b[39;00m \u001b[38;5;129;01mnot\u001b[39;00m \u001b[38;5;28;01mNone\u001b[39;00m:\n\u001b[1;32m-> 1528\u001b[0m     \u001b[38;5;28;43mself\u001b[39;49m\u001b[38;5;241;43m.\u001b[39;49m\u001b[43mstdout_thread\u001b[49m\u001b[38;5;241;43m.\u001b[39;49m\u001b[43mjoin\u001b[49m\u001b[43m(\u001b[49m\u001b[38;5;28;43mself\u001b[39;49m\u001b[38;5;241;43m.\u001b[39;49m\u001b[43m_remaining_time\u001b[49m\u001b[43m(\u001b[49m\u001b[43mendtime\u001b[49m\u001b[43m)\u001b[49m\u001b[43m)\u001b[49m\n\u001b[0;32m   1529\u001b[0m     \u001b[38;5;28;01mif\u001b[39;00m \u001b[38;5;28mself\u001b[39m\u001b[38;5;241m.\u001b[39mstdout_thread\u001b[38;5;241m.\u001b[39mis_alive():\n\u001b[0;32m   1530\u001b[0m         \u001b[38;5;28;01mraise\u001b[39;00m TimeoutExpired(\u001b[38;5;28mself\u001b[39m\u001b[38;5;241m.\u001b[39margs, orig_timeout)\n",
      "File \u001b[1;32m~\\anaconda3\\envs\\pytorch-gpu\\lib\\threading.py:1096\u001b[0m, in \u001b[0;36mThread.join\u001b[1;34m(self, timeout)\u001b[0m\n\u001b[0;32m   1093\u001b[0m     \u001b[38;5;28;01mraise\u001b[39;00m \u001b[38;5;167;01mRuntimeError\u001b[39;00m(\u001b[38;5;124m\"\u001b[39m\u001b[38;5;124mcannot join current thread\u001b[39m\u001b[38;5;124m\"\u001b[39m)\n\u001b[0;32m   1095\u001b[0m \u001b[38;5;28;01mif\u001b[39;00m timeout \u001b[38;5;129;01mis\u001b[39;00m \u001b[38;5;28;01mNone\u001b[39;00m:\n\u001b[1;32m-> 1096\u001b[0m     \u001b[38;5;28;43mself\u001b[39;49m\u001b[38;5;241;43m.\u001b[39;49m\u001b[43m_wait_for_tstate_lock\u001b[49m\u001b[43m(\u001b[49m\u001b[43m)\u001b[49m\n\u001b[0;32m   1097\u001b[0m \u001b[38;5;28;01melse\u001b[39;00m:\n\u001b[0;32m   1098\u001b[0m     \u001b[38;5;66;03m# the behavior of a negative timeout isn't documented, but\u001b[39;00m\n\u001b[0;32m   1099\u001b[0m     \u001b[38;5;66;03m# historically .join(timeout=x) for x<0 has acted as if timeout=0\u001b[39;00m\n\u001b[0;32m   1100\u001b[0m     \u001b[38;5;28mself\u001b[39m\u001b[38;5;241m.\u001b[39m_wait_for_tstate_lock(timeout\u001b[38;5;241m=\u001b[39m\u001b[38;5;28mmax\u001b[39m(timeout, \u001b[38;5;241m0\u001b[39m))\n",
      "File \u001b[1;32m~\\anaconda3\\envs\\pytorch-gpu\\lib\\threading.py:1116\u001b[0m, in \u001b[0;36mThread._wait_for_tstate_lock\u001b[1;34m(self, block, timeout)\u001b[0m\n\u001b[0;32m   1113\u001b[0m     \u001b[38;5;28;01mreturn\u001b[39;00m\n\u001b[0;32m   1115\u001b[0m \u001b[38;5;28;01mtry\u001b[39;00m:\n\u001b[1;32m-> 1116\u001b[0m     \u001b[38;5;28;01mif\u001b[39;00m \u001b[43mlock\u001b[49m\u001b[38;5;241;43m.\u001b[39;49m\u001b[43macquire\u001b[49m\u001b[43m(\u001b[49m\u001b[43mblock\u001b[49m\u001b[43m,\u001b[49m\u001b[43m \u001b[49m\u001b[43mtimeout\u001b[49m\u001b[43m)\u001b[49m:\n\u001b[0;32m   1117\u001b[0m         lock\u001b[38;5;241m.\u001b[39mrelease()\n\u001b[0;32m   1118\u001b[0m         \u001b[38;5;28mself\u001b[39m\u001b[38;5;241m.\u001b[39m_stop()\n",
      "\u001b[1;31mKeyboardInterrupt\u001b[0m: "
     ]
    }
   ],
   "source": [
    "# Play game\n",
    "for ep in range(3):\n",
    "    \n",
    "    # Reset game\n",
    "    obs, info = env.reset()\n",
    "    terminated = False\n",
    "    truncated = False\n",
    "    total_reward = 0\n",
    "    step_count = 0\n",
    "    \n",
    "    # Perform actions based on observation and accumulate reward\n",
    "    while not terminated and not truncated:\n",
    "        action, _ = model.predict(obs)\n",
    "        obs, reward, terminated, truncated, info = env.step(int(action))\n",
    "        total_reward += reward\n",
    "        step_count += 1\n",
    "        \n",
    "    # Print total reward at the end of the episode\n",
    "    print(f\"Episode {ep} | Steps: {step_count}, Total reward: {total_reward}\")"
   ]
  },
  {
   "cell_type": "code",
   "execution_count": 47,
   "id": "a6dea137-15f1-4954-89e8-fcd16269898b",
   "metadata": {},
   "outputs": [],
   "source": [
    "# We're done! Close the environment\n",
    "env.close()"
   ]
  },
  {
   "cell_type": "markdown",
   "id": "754caf2c-d149-4e96-ae34-31748c7d4ca9",
   "metadata": {},
   "source": [
    "## TODO:\n",
    "\n",
    " * Make step faster (>10 fps)\n",
    "   * Disable rendering?\n",
    "   * Check by removing parts of step() (probably opencv or mss being slow)\n",
    "   * Print FPS in wandb metrics\n",
    " * Reward forward motion\n",
    " * Frame stacking"
   ]
  }
 ],
 "metadata": {
  "kernelspec": {
   "display_name": "Python 3 (ipykernel)",
   "language": "python",
   "name": "python3"
  },
  "language_info": {
   "codemirror_mode": {
    "name": "ipython",
    "version": 3
   },
   "file_extension": ".py",
   "mimetype": "text/x-python",
   "name": "python",
   "nbconvert_exporter": "python",
   "pygments_lexer": "ipython3",
   "version": "3.10.10"
  }
 },
 "nbformat": 4,
 "nbformat_minor": 5
}
