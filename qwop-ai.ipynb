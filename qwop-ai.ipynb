{
 "cells": [
  {
   "cell_type": "markdown",
   "id": "d6245fca-df28-43b4-b886-b199710201b5",
   "metadata": {},
   "source": [
    "# QWOP AI\n",
    "\n",
    "Direct screen capture for observation. Make sure QWOP is in Chrome and window is resized just before scroll bars appear. Place window in top-left of screen. Note that this project is intended to be run *locally* on a computer where you can easily set up the game window for screen capture.\n",
    "\n",
    "Based on the \"Build a Chrome Dino Game AI Model with Python\" video by Nicholas Renotte: https://www.youtube.com/watch?v=vahwuupy81A"
   ]
  },
  {
   "cell_type": "markdown",
   "id": "791dfbbf-b0bf-4937-bc51-bb17d6acc2b9",
   "metadata": {},
   "source": [
    "## Install dependencies\n",
    "\n",
    "### Prerequisites\n",
    "\n",
    "You will need to install OpenCV. The easiest way to do this is from the Anaconda environment. The newest version might work, but 4.7.0 worked for this notebook. You will also need [tesserocr](https://pypi.org/project/tesserocr/) for doing optical character recognition (OCR). Version 2.5.2 was verified working for this notebook.\n",
    "\n",
    "```\n",
    "conda install -c conda-forge opencv=4.7.0 tesserocr=2.5.2\n",
    "```\n",
    "\n",
    "Finally, you will need to install PyTorch for Stable Baselines3 to work. It is highly recommended that you use the GPU-enabled version of PyTorch for faster training. Follow the directions here: https://pytorch.org/get-started/locally/. This notebook was tested with the following:\n",
    " * PyTorch v2.0.0\n",
    " * OS: Windows\n",
    " * Package: Conda\n",
    " * Language: Python\n",
    " * Compute platform: CUDA 11.7\n",
    "\n",
    "### Install packages\n",
    "\n",
    "Uncomment the following cells to install the required packages. Note the versions on some of them. Gymnasium and Stable-Baselines3 change constantly, so I tried to version-lock these packages, as these are known to work with this notebook. Starting with v2.0.0, Stable-Baselines3 will only support gymnasium (and drop gym support). See [here](https://github.com/DLR-RM/stable-baselines3/releases/tag/v1.8.0) for more information."
   ]
  },
  {
   "cell_type": "code",
   "execution_count": 1,
   "id": "88747836-3b50-46fb-bd84-0881481583d9",
   "metadata": {},
   "outputs": [],
   "source": [
    "# !python -m pip install mss pynput \n",
    "# !python -m pip install gymnasium==0.28.1\n",
    "# !python -m pip install stable-baselines3[extra]==2.0.0a1\n",
    "# !python -m pip install wandb"
   ]
  },
  {
   "cell_type": "markdown",
   "id": "1d5593f1-e172-4279-8554-cae1e994110e",
   "metadata": {
    "tags": []
   },
   "source": [
    "## Configuration"
   ]
  },
  {
   "cell_type": "code",
   "execution_count": 2,
   "id": "76b5678e-92c8-42b3-9f43-855c2eba6dde",
   "metadata": {},
   "outputs": [],
   "source": [
    "### Import libraries\n",
    "\n",
    "# Screen capture\n",
    "from mss import mss\n",
    "\n",
    "# Sending commands (e.g. mouse/keyboard)\n",
    "import pynput\n",
    "\n",
    "# OpenCV for image manipulation\n",
    "import cv2\n",
    "\n",
    "# Optical character recognition (OCR)\n",
    "import tesserocr\n",
    "from PIL import Image\n",
    "\n",
    "# Farama Foundation Gymnasium (fork of OpenAI gym)\n",
    "import gymnasium as gym\n",
    "\n",
    "# Reinforcement model modules\n",
    "from stable_baselines3.common import env_checker\n",
    "from stable_baselines3.common.callbacks import BaseCallback\n",
    "from stable_baselines3.common.logger import KVWriter, Logger\n",
    "from stable_baselines3 import PPO\n",
    "\n",
    "# Weights & Biases for remote logging\n",
    "import wandb\n",
    "\n",
    "# Other\n",
    "import time\n",
    "import datetime\n",
    "import os\n",
    "import numpy as np\n",
    "from matplotlib import pyplot as plt\n",
    "from typing import Any, Dict, Tuple, Union"
   ]
  },
  {
   "cell_type": "code",
   "execution_count": 51,
   "id": "ab8d0b37-dbcd-44fe-bb09-19ffa3cf46f7",
   "metadata": {},
   "outputs": [],
   "source": [
    "### Settings\n",
    "\n",
    "# Game observation\n",
    "GAME_CROP = {\n",
    "    'top':430, \n",
    "    'left':300, \n",
    "    'width':480, \n",
    "    'height':320\n",
    "}\n",
    "\n",
    "# Image resize (minimum of 36x36 for default CnnPolicies)\n",
    "GAME_RESIZE_WIDTH = 96\n",
    "GAME_RESIZE_HEIGHT = 96\n",
    "GAME_FRAME_STACK_SIZE = 4\n",
    "\n",
    "# How big to make display image (0 for no display)\n",
    "DISP_SCALE_FACTOR = 3.0\n",
    "\n",
    "# Where to find the head/hair in the scaled game image\n",
    "HEAD_ROW_MIN = 8\n",
    "HEAD_ROW_MAX = 64\n",
    "HEAD_PIXEL_THRESHOLD = 34\n",
    "HEAD_HEIGHT_THRESHOLD = 23\n",
    "\n",
    "# Score observation\n",
    "SCORE_CROP = {\n",
    "    'top':395, \n",
    "    'left':342, \n",
    "    'width':380, \n",
    "    'height':42\n",
    "}\n",
    "SCORE_RESIZE_WIDTH = 300\n",
    "SCORE_RESIZE_HEIGHT = 40\n",
    "\n",
    "# Game over screen\n",
    "DONE_CROP = {\n",
    "    'top':637, \n",
    "    'left':430, \n",
    "    'width':100, \n",
    "    'height':30}\n",
    "DONE_RESIZE_WIDTH = 150\n",
    "DONE_RESIZE_HEIGHT = 40\n",
    "GAME_OVER_STRINGS = [\"press\"]\n",
    "\n",
    "# Action settings\n",
    "RESTART_MOUSE_POS = (300, 600)\n",
    "RESTART_KEY = 'r'\n",
    "ACTIONS_KEY_PRESS_TIME = 0.05\n",
    "ACTIONS_MAP = {\n",
    "    0: 'no-op',\n",
    "    1: 'press q',\n",
    "    2: 'press w',\n",
    "    3: 'press o',\n",
    "    4: 'press p',\n",
    "    5: 'release q',\n",
    "    6: 'release w',\n",
    "    7: 'release o',\n",
    "    8: 'release p'\n",
    "}\n",
    "\n",
    "# Reward settings\n",
    "FALL_REWARD = -100\n",
    "KNEEL_REWARD = -0.1\n",
    "SCORE_MULTIPLIER = 1\n",
    "GOAL_MARKER = 5\n",
    "GOAL_REWARD = 100\n",
    "\n",
    "# CnnPolicy requires 8-bit unsigned integers for images\n",
    "DTYPE = np.uint8\n",
    "\n",
    "# Size of sliding window average to calculate FPS\n",
    "FPS_AVG_LEN = 30\n",
    "\n",
    "# Checkpoint config\n",
    "CHECKPOINT_DIR = \"checkpoints\"\n",
    "CHECKPOINT_FREQ = 25_000 # 25k steps with 15 fps is about 30 min\n",
    "\n",
    "# Log config\n",
    "LOG_DIR = \"logs\"\n",
    "LOG_FREQ = 5_000 # 5k steps with 30 fps is about 5 min\n",
    "\n",
    "# Weights & Biases configuratino\n",
    "WANDB_PROJECT = \"qwop\""
   ]
  },
  {
   "cell_type": "markdown",
   "id": "530b2e8c-f906-45f7-bf9b-a2427e651df1",
   "metadata": {
    "tags": []
   },
   "source": [
    "## Test Screen Capture\n",
    "\n",
    "The following cells are used to test capturing screens and performing OCR. Such actions will be incorporated into the custom gymnasium Environment (Env) wrapper."
   ]
  },
  {
   "cell_type": "code",
   "execution_count": 14,
   "id": "bb1639d6-b4ea-4456-be68-b566f7a86530",
   "metadata": {},
   "outputs": [],
   "source": [
    "### Create screen capture object\n",
    "screen = mss()"
   ]
  },
  {
   "cell_type": "code",
   "execution_count": 15,
   "id": "6288f508-1fee-4b57-9aaf-fbf892c9c973",
   "metadata": {},
   "outputs": [
    {
     "name": "stdout",
     "output_type": "stream",
     "text": [
      "Shape: (96, 96)\n",
      "Example row: [154 159  80 163  79   0 159 150  64  87  87  87  87  87  87  87  87  87\n",
      "  87  87  87  87  87  87  87  87  87  87  87  87  87  87  87  87  87  87\n",
      "  87  87  87  87  87  87  87  87  87  87  87  87  87  87  87  87  87  87\n",
      "  87  87  87  87  87  87  87  87  87  87  87  87  87  87  87  87  87  87\n",
      "  87  87  87  87  87  87  87  87  87  87  87  87  87  87  87  87 167 154\n",
      " 159 150 163 162 117 154]\n"
     ]
    },
    {
     "data": {
      "image/png": "[encoded data removed]",
      "text/plain": [
       "<Figure size 640x480 with 1 Axes>"
      ]
     },
     "metadata": {},
     "output_type": "display_data"
    }
   ],
   "source": [
    "### Do screen grab and preprocess (make sure runner and some distance ahead is visible)\n",
    "\n",
    "# Get screen grab and drop alpha channel\n",
    "game_img = screen.grab(GAME_CROP)\n",
    "game_img = np.array(game_img)[:, :, :3]\n",
    "\n",
    "# Convert to grayscale and resize\n",
    "game_img = cv2.cvtColor(game_img, cv2.COLOR_BGR2GRAY)\n",
    "game_img = cv2.resize(game_img, (GAME_RESIZE_WIDTH, GAME_RESIZE_HEIGHT))\n",
    "\n",
    "# Add channel dimension last (to mimic Gymnasium's examples)\n",
    "game_img = np.reshape(game_img, (GAME_RESIZE_HEIGHT, GAME_RESIZE_WIDTH))\n",
    "\n",
    "# Show crop/resized\n",
    "print(f\"Shape: {game_img.shape}\")\n",
    "print(f\"Example row: {game_img[0, :]}\")\n",
    "plt.imshow(game_img, cmap='gray', vmin=0, vmax=255)\n",
    "\n",
    "# Try showing image in new window\n",
    "if DISP_SCALE_FACTOR > 0:\n",
    "    disp_width = int(GAME_RESIZE_WIDTH * DISP_SCALE_FACTOR)\n",
    "    disp_height = int(GAME_RESIZE_HEIGHT * DISP_SCALE_FACTOR)\n",
    "    disp_img = cv2.resize(game_img, (disp_width, disp_height), interpolation=cv2.INTER_AREA)\n",
    "    cv2.namedWindow('Game Image')\n",
    "    cv2.imshow('Game Image', disp_img)\n",
    "    cv2.waitKey(2000)\n",
    "    cv2.destroyAllWindows()"
   ]
  },
  {
   "cell_type": "code",
   "execution_count": 16,
   "id": "a16697de-3be1-4b6f-9eae-10b481ec8a21",
   "metadata": {},
   "outputs": [
    {
     "data": {
      "image/png": "[encoded data removed]",
      "text/plain": [
       "<Figure size 640x480 with 4 Axes>"
      ]
     },
     "metadata": {},
     "output_type": "display_data"
    }
   ],
   "source": [
    "### Try frame stacking\n",
    "\n",
    "# Simple frame grab, crop, and resize\n",
    "def screen_grab_test():\n",
    "\n",
    "    # Get screen grab and drop alpha channel\n",
    "    game_img = screen.grab(GAME_CROP)\n",
    "    game_img = np.array(game_img)[:, :, :3]\n",
    "\n",
    "    # Convert to grayscale and resize\n",
    "    game_img = cv2.cvtColor(game_img, cv2.COLOR_BGR2GRAY)\n",
    "    game_img = cv2.resize(game_img, (GAME_RESIZE_WIDTH, GAME_RESIZE_HEIGHT))\n",
    "\n",
    "    # Add channel dimension last (to mimic Gymnasium's examples)\n",
    "    game_img = np.reshape(game_img, (GAME_RESIZE_HEIGHT, GAME_RESIZE_WIDTH))\n",
    "    \n",
    "    return game_img\n",
    "\n",
    "# Capture a full stack of frames\n",
    "frame_stack = np.zeros((GAME_RESIZE_HEIGHT, GAME_RESIZE_WIDTH, GAME_FRAME_STACK_SIZE))\n",
    "for _ in range(GAME_FRAME_STACK_SIZE):\n",
    "\n",
    "    # Roll frame stack and add new frame to the end\n",
    "    img = screen_grab_test()\n",
    "    frame_stack = np.roll(frame_stack, -1, axis=-1)\n",
    "    frame_stack[:, :, -1] = img\n",
    "    \n",
    "    # Wait between frame captures\n",
    "    time.sleep(1.0)\n",
    "    \n",
    "# Show frames\n",
    "fig, axs = plt.subplots(1, GAME_FRAME_STACK_SIZE)\n",
    "for i in range(GAME_FRAME_STACK_SIZE):\n",
    "    axs[i].imshow(frame_stack[:, :, i], cmap='gray', vmin=0, vmax=255)"
   ]
  },
  {
   "cell_type": "code",
   "execution_count": 17,
   "id": "e8f41e36-6eb0-4df8-962e-fd070e19de2d",
   "metadata": {},
   "outputs": [
    {
     "name": "stdout",
     "output_type": "stream",
     "text": [
      "Pixels below color threshold: (array([], dtype=int64), array([], dtype=int64))\n",
      "Rows must be offset: []\n",
      "No head detected\n"
     ]
    }
   ],
   "source": [
    "### Use scaled game image to find head height\n",
    "\n",
    "# Print a few rows to see values\n",
    "# print(game_img[0, HEAD_ROW_MIN:HEAD_ROW_MAX, :])\n",
    "\n",
    "# Find dark pixels between two rows where the head likely is\n",
    "locs = np.where(frame_stack[-1, HEAD_ROW_MIN:HEAD_ROW_MAX, :] < HEAD_PIXEL_THRESHOLD)\n",
    "rows = np.sort(locs[0]) + HEAD_ROW_MIN\n",
    "print(f\"Pixels below color threshold: \" \n",
    "          f\"{locs}\")\n",
    "print(f\"Rows must be offset: {locs[0] + HEAD_ROW_MIN}\")\n",
    "\n",
    "# Give row of first dark pixel in likely head range\n",
    "if rows.size > 0:\n",
    "    print(f\"Head at row {rows[0]}\")\n",
    "else:\n",
    "    print(f\"No head detected\")"
   ]
  },
  {
   "cell_type": "code",
   "execution_count": 18,
   "id": "25543689-5d43-403a-a0c2-abec17a3aa60",
   "metadata": {},
   "outputs": [
    {
     "name": "stdout",
     "output_type": "stream",
     "text": [
      "Context setup: 0.04739 sec\n"
     ]
    }
   ],
   "source": [
    "### Create OCR context\n",
    "timestamp = time.time()\n",
    "ocr_api = tesserocr.PyTessBaseAPI()\n",
    "print(f\"Context setup: {(time.time() - timestamp):.5f} sec\")"
   ]
  },
  {
   "cell_type": "code",
   "execution_count": 19,
   "id": "171dfe46-e390-4ab9-9b06-6eccc2f37fe3",
   "metadata": {},
   "outputs": [
    {
     "name": "stdout",
     "output_type": "stream",
     "text": [
      "Screen grab: 0.01708 sec\n",
      "Prep image: 0.00100 sec\n",
      "OCR: 0.01585 sec\n",
      "Total: 0.03393 sec\n",
      "OCR string: -1.3 metres\n",
      "\n",
      "Score: -1.3\n"
     ]
    },
    {
     "data": {
      "text/plain": [
       "<matplotlib.image.AxesImage at 0x26cb0a48220>"
      ]
     },
     "execution_count": 19,
     "metadata": {},
     "output_type": "execute_result"
    },
    {
     "data": {
      "image/png": "[encoded data removed]",
      "text/plain": [
       "<Figure size 640x480 with 1 Axes>"
      ]
     },
     "metadata": {},
     "output_type": "display_data"
    }
   ],
   "source": [
    "### Use OCR to get score\n",
    "\n",
    "total_time = 0.0\n",
    "\n",
    "# Get screen grab and drop alpha channel\n",
    "timestamp = time.time()\n",
    "score_img = screen.grab(SCORE_CROP)\n",
    "score_img = np.array(score_img)[:, :, :3]\n",
    "section_time = time.time() - timestamp\n",
    "total_time += section_time\n",
    "print(f\"Screen grab: {section_time:.5f} sec\")\n",
    "\n",
    "# Smaller, grayscale image with dark text on light background makes for fast OCR\n",
    "timestamp = time.time()\n",
    "score_img = cv2.cvtColor(score_img, cv2.COLOR_BGR2GRAY)\n",
    "score_img = cv2.resize(score_img, (SCORE_RESIZE_WIDTH, SCORE_RESIZE_HEIGHT))\n",
    "score_img = 255 - score_img\n",
    "pil_img = Image.fromarray(score_img)\n",
    "section_time = time.time() - timestamp\n",
    "total_time += section_time\n",
    "print(f\"Prep image: {section_time:.5f} sec\")\n",
    "\n",
    "# Use tesserocr to get text from image\n",
    "ocr_str = \"\"\n",
    "timestamp = time.time()\n",
    "try:\n",
    "    ocr_api.SetImage(pil_img)\n",
    "    ocr_str = ocr_api.GetUTF8Text()\n",
    "except:\n",
    "    print(\"ERROR: Could not perform OCR\")\n",
    "    \n",
    "# Display timing\n",
    "section_time = time.time() - timestamp\n",
    "total_time += section_time\n",
    "print(f\"OCR: {section_time:.5f} sec\")\n",
    "print(f\"Total: {total_time:.5f} sec\")\n",
    "\n",
    "# Display OCR results\n",
    "score = 0.0\n",
    "if ocr_str:\n",
    "    score_str = ocr_str.split()[0]\n",
    "    try:\n",
    "        score = float(float(score_str))\n",
    "    except ValueError:\n",
    "        pass\n",
    "print(f\"OCR string: {ocr_str}\")\n",
    "print(f\"Score: {score}\")\n",
    "\n",
    "# Show image\n",
    "plt.imshow(score_img, cmap='gray')"
   ]
  },
  {
   "cell_type": "code",
   "execution_count": 20,
   "id": "88a960a6-cb52-4a89-a1e6-582d726e6e8e",
   "metadata": {},
   "outputs": [
    {
     "name": "stdout",
     "output_type": "stream",
     "text": [
      "Screen grab: 0.00252 sec\n",
      "Prep image: 0.00000 sec\n",
      "OCR: 0.00302 sec\n",
      "Total: 0.00554 sec\n",
      "OCR string: Press spat\n",
      "Done: True\n"
     ]
    },
    {
     "data": {
      "text/plain": [
       "<matplotlib.image.AxesImage at 0x26cb0a92d10>"
      ]
     },
     "execution_count": 20,
     "metadata": {},
     "output_type": "execute_result"
    },
    {
     "data": {
      "image/png": "[encoded data removed]",
      "text/plain": [
       "<Figure size 640x480 with 1 Axes>"
      ]
     },
     "metadata": {},
     "output_type": "display_data"
    }
   ],
   "source": [
    "### Use OCR to get done screen\n",
    "\n",
    "total_time = 0.0\n",
    "\n",
    "# Get screen grab and drop alpha channel\n",
    "timestamp = time.time()\n",
    "done_img = screen.grab(DONE_CROP)\n",
    "done_img = np.array(done_img)[:, :, :3]\n",
    "section_time = time.time() - timestamp\n",
    "total_time += section_time\n",
    "print(f\"Screen grab: {section_time:.5f} sec\")\n",
    "\n",
    "# Smaller, grayscale image with dark text on light background makes for fast OCR\n",
    "timestamp = time.time()\n",
    "done_img = cv2.cvtColor(done_img, cv2.COLOR_BGR2GRAY)\n",
    "done_img = cv2.resize(done_img, (DONE_RESIZE_WIDTH, DONE_RESIZE_HEIGHT))\n",
    "pil_img = Image.fromarray(done_img)\n",
    "section_time = time.time() - timestamp\n",
    "total_time += section_time\n",
    "print(f\"Prep image: {section_time:.5f} sec\")\n",
    "\n",
    "# Use tesserocr to get text from image\n",
    "ocr_str = \"\"\n",
    "timestamp = time.time()\n",
    "try:\n",
    "    ocr_api.SetImage(pil_img)\n",
    "    ocr_str = ocr_api.GetUTF8Text()\n",
    "except:\n",
    "    print(\"ERROR: Could not perform OCR\")\n",
    "    \n",
    "# Display timing\n",
    "section_time = time.time() - timestamp\n",
    "total_time += section_time\n",
    "print(f\"OCR: {section_time:.5f} sec\")\n",
    "print(f\"Total: {total_time:.5f} sec\")\n",
    "\n",
    "# Display OCR results\n",
    "done = False\n",
    "ocr_str = ocr_str.strip()\n",
    "if ocr_str:\n",
    "    done_str = ocr_str.split()[0].lower()\n",
    "    if done_str in GAME_OVER_STRINGS:\n",
    "        done = True\n",
    "print(f\"OCR string: {ocr_str}\")\n",
    "print(f\"Done: {done}\")\n",
    "\n",
    "# Show image\n",
    "plt.imshow(done_img, cmap='gray')"
   ]
  },
  {
   "cell_type": "code",
   "execution_count": 21,
   "id": "2f643087-6a4b-480d-bfc0-026b1c090f93",
   "metadata": {},
   "outputs": [],
   "source": [
    "### End OCR context\n",
    "ocr_api.End()"
   ]
  },
  {
   "cell_type": "markdown",
   "id": "2a99f0a7-3e42-4e17-9c8d-7a3a15e79db5",
   "metadata": {
    "tags": []
   },
   "source": [
    "## Test Spaces\n",
    "\n",
    "The gymnasium Environment (Env) requires us to define the observation space and action space so it can know what kinds of data to expect when it interacts with the environment. For us, the observation space is the shape and bit width of the normalized, scaled screen capture (our runner and some space in front of them). The action space is all the available actions we can input into the game (q, w, o, p) along with doing nothing (no-op). We should also test the ability to restart the game (pressing space bar). As with the screen capture actions, these actions will be incorporated into the custom Env."
   ]
  },
  {
   "cell_type": "code",
   "execution_count": 22,
   "id": "ecf83847-9d2a-4020-88b1-74cab6ff7359",
   "metadata": {},
   "outputs": [
    {
     "name": "stdout",
     "output_type": "stream",
     "text": [
      "Shape: (96, 96)\n",
      "Example row: [207 202  65  32  86 131 138  19 249 166  56   5  38 170 195  76 210 107\n",
      " 220 234 221 247 206  40 183 125  36 219  50 210  81 254 163 123 195 165\n",
      " 246 151 122 151 168 233 202 219 201  76  92 145 143 180  91 171  88 107\n",
      " 196 238  45   8 222 118 102 178 129 150  39 103 183  29 147 107 124  67\n",
      " 166   2   9 246  20 201 177  13  44  84 234 185  99 189 239   9 120 222\n",
      "  22 233  73 182 249 233]\n"
     ]
    }
   ],
   "source": [
    "### Test observation space\n",
    "\n",
    "# Create an observation space\n",
    "observation_space = gym.spaces.Box(low=0,\n",
    "                                   high=255,\n",
    "                                   shape=(GAME_RESIZE_WIDTH, GAME_RESIZE_WIDTH),\n",
    "                                   dtype=DTYPE)\n",
    "\n",
    "# Randomly sample from it to show that it matches our expected input screen capture\n",
    "obs = observation_space.sample()\n",
    "print(f\"Shape: {obs.shape}\")\n",
    "print(f\"Example row: {obs[0, :]}\")"
   ]
  },
  {
   "cell_type": "code",
   "execution_count": 23,
   "id": "f0b5e2a9-ca67-4532-8023-12f423c1ac5d",
   "metadata": {},
   "outputs": [
    {
     "name": "stdout",
     "output_type": "stream",
     "text": [
      "3: press o\n"
     ]
    }
   ],
   "source": [
    "### Test action space\n",
    "\n",
    "# Create an action space\n",
    "action_space = gym.spaces.Discrete(len(ACTIONS_MAP))\n",
    "\n",
    "# Sample from it to show that we can randomly generate a number corresponding to an action\n",
    "action = action_space.sample()\n",
    "print(f\"{action}: {ACTIONS_MAP[action]}\")"
   ]
  },
  {
   "cell_type": "code",
   "execution_count": 24,
   "id": "1a74db97-d55e-4804-9414-b2328627d8fd",
   "metadata": {},
   "outputs": [
    {
     "name": "stdout",
     "output_type": "stream",
     "text": [
      "release o: 7\n",
      "press w: 2\n",
      "release q: 5\n",
      "press q: 1\n",
      "release q: 5\n",
      "press q: 1\n",
      "release w: 6\n",
      "release p: 8\n",
      "release q: 5\n",
      "release w: 6\n"
     ]
    }
   ],
   "source": [
    "### Test control interaction: reset game and do some random stuff\n",
    "\n",
    "# Create interaction objects\n",
    "keyboard = pynput.keyboard.Controller()\n",
    "mouse = pynput.mouse.Controller()\n",
    "\n",
    "# Move mouse to QWOP window and click to bring to focus\n",
    "mouse.position = RESTART_MOUSE_POS\n",
    "mouse.press(pynput.mouse.Button.left)\n",
    "mouse.release(pynput.mouse.Button.left)\n",
    "\n",
    "# Press 'r' to restart game\n",
    "keyboard.press(RESTART_KEY)\n",
    "keyboard.release(RESTART_KEY)\n",
    "\n",
    "# Sample randomly from our action space to control the game\n",
    "for _ in range(10):\n",
    "    action = action_space.sample()\n",
    "    if ACTIONS_MAP[action] == 'press q':\n",
    "        keyboard.press('q')\n",
    "    elif ACTIONS_MAP[action] == 'press w':\n",
    "        keyboard.press('w')\n",
    "    elif ACTIONS_MAP[action] == 'press o':\n",
    "        keyboard.press('o')\n",
    "    elif ACTIONS_MAP[action] == 'press p':\n",
    "        keyboard.press('p')\n",
    "    elif ACTIONS_MAP[action] == 'release q':\n",
    "        keyboard.release('q')\n",
    "    elif ACTIONS_MAP[action] == 'release w':\n",
    "        keyboard.release('w')\n",
    "    elif ACTIONS_MAP[action] == 'release o':\n",
    "        keyboard.release('o')\n",
    "    elif ACTIONS_MAP[action] == 'release p':\n",
    "        keyboard.release('p')\n",
    "    print(f\"{ACTIONS_MAP[action]}: {action}\")\n",
    "    time.sleep(ACTIONS_KEY_PRESS_TIME)\n",
    "    \n",
    "# Release everything\n",
    "keyboard.release('q')\n",
    "keyboard.release('w')\n",
    "keyboard.release('o')\n",
    "keyboard.release('p')"
   ]
  },
  {
   "cell_type": "markdown",
   "id": "779fc038-5ea9-4b97-83fc-19b20af1030b",
   "metadata": {
    "tags": []
   },
   "source": [
    "## Build gym Environment\n",
    "\n",
    "Subclass gymnasium.Env to create a custom environment. Learn more here: https://gymnasium.farama.org/tutorials/gymnasium_basics/environment_creation/"
   ]
  },
  {
   "cell_type": "code",
   "execution_count": 52,
   "id": "1e22b32b-7115-4a33-8299-bde8d40805a8",
   "metadata": {},
   "outputs": [],
   "source": [
    "class WebGame(gym.Env):\n",
    "    \"\"\"\n",
    "    Subclass gymnasium Env class\n",
    "    \n",
    "    This is the gym wrapper class that allows our agent to interact with our environment. We need\n",
    "    to implement four main methods: step(), reset(), render(), and close(). We should also define\n",
    "    the action_space and observation space as class members.\n",
    "    \n",
    "    Note: on Windows, time.sleep() is only accurate to around 10ms. As a result, setting fps_limit\n",
    "    will give you a \"best effort\" limit.\n",
    "    \n",
    "    More information: https://gymnasium.farama.org/api/env/\n",
    "    \"\"\"\n",
    "    \n",
    "    # Set up the environment, action, and observation shapes. Optional timeout in seconds.\n",
    "    def __init__(self, \n",
    "                 timeout=0.0, \n",
    "                 disp_scale=0.0, \n",
    "                 fps_limit=0.0, \n",
    "                 show_fps=False, \n",
    "                 debug_time=False):\n",
    "        \n",
    "        # Call superclass's constructor\n",
    "        super().__init__()\n",
    "        \n",
    "        # Env requires us to define the action space\n",
    "        self.action_space = gym.spaces.Discrete(len(ACTIONS_MAP))\n",
    "        \n",
    "        # Env requires us to define the observation space\n",
    "        self.observation_space = gym.spaces.Box(\n",
    "            low=0,\n",
    "            high=255,\n",
    "            shape=(GAME_RESIZE_HEIGHT, GAME_RESIZE_WIDTH, GAME_FRAME_STACK_SIZE),\n",
    "            dtype=DTYPE\n",
    "        )\n",
    "        \n",
    "        # Screen capture object\n",
    "        self.screen = mss()\n",
    "        \n",
    "        # OCR context\n",
    "        self.ocr_api = tesserocr.PyTessBaseAPI()\n",
    "        \n",
    "        # Interaction objects\n",
    "        self.keyboard = pynput.keyboard.Controller()\n",
    "        self.mouse = pynput.mouse.Controller()\n",
    "        \n",
    "        # Record total score between rounds (to calculate reward each step)\n",
    "        self.score = 0.0\n",
    "        \n",
    "        # Used to record the time\n",
    "        self.timeout = timeout\n",
    "        self.start_time = 0.0\n",
    "        if self.timeout > 0.0:\n",
    "            self.start_time = time.time()\n",
    "            \n",
    "        # How much to scale the render window\n",
    "        self.disp_scale = disp_scale\n",
    "        \n",
    "        # Limit the FPS for consistency\n",
    "        self.fps_limit = fps_limit\n",
    "        \n",
    "        # Record time for debugging and showing FPS in render window\n",
    "        self.fps = 0.0\n",
    "        self.avg_fps_array = [0.0] * FPS_AVG_LEN\n",
    "        self.show_fps = show_fps\n",
    "        self.timestamp = time.time()\n",
    "        self.debug_time = debug_time\n",
    "        self.debug_start_time = time.time()\n",
    "        self.debug_timestamp = time.time()\n",
    "\n",
    "        # Initialize game frame stack\n",
    "        self.frame_stack = np.zeros((GAME_RESIZE_HEIGHT, GAME_RESIZE_WIDTH, GAME_FRAME_STACK_SIZE), dtype=DTYPE)\n",
    "        \n",
    "        # Show rendering in new window if requested\n",
    "        if self.disp_scale > 0.0:\n",
    "            cv2.namedWindow('Game Image')\n",
    "        \n",
    "        pass\n",
    "    \n",
    "    # What happens when you take a step in the game (e.g. each frame)\n",
    "    def step(self, action):\n",
    "        \n",
    "        # Debug timing\n",
    "        self._show_debug_time(\"Step start\")\n",
    "        \n",
    "        # Perform action (don't do anything for no-op)\n",
    "        if ACTIONS_MAP[action] == 'press q':\n",
    "            self.keyboard.press('q')\n",
    "        elif ACTIONS_MAP[action] == 'press w':\n",
    "            self.keyboard.press('w')\n",
    "        elif ACTIONS_MAP[action] == 'press o':\n",
    "            self.keyboard.press('o')\n",
    "        elif ACTIONS_MAP[action] == 'press p':\n",
    "            self.keyboard.press('p')\n",
    "        elif ACTIONS_MAP[action] == 'release q':\n",
    "            self.keyboard.release('q')\n",
    "        elif ACTIONS_MAP[action] == 'release w':\n",
    "            self.keyboard.release('w')\n",
    "        elif ACTIONS_MAP[action] == 'release o':\n",
    "            self.keyboard.release('o')\n",
    "        elif ACTIONS_MAP[action] == 'release p':\n",
    "            self.keyboard.release('p')\n",
    "        self._show_debug_time(\"Perform action\")\n",
    "            \n",
    "        # Get next observation, render, and add to frame stack\n",
    "        frame_stack = self.get_observation()\n",
    "        self._show_debug_time(\"Get obs\")\n",
    "        \n",
    "        # Set initial reward\n",
    "        reward = 0\n",
    "        \n",
    "        # Use distance as reward score. Calculate score difference between this step and previous.\n",
    "        prev_score = self.score\n",
    "        self.score = self.get_score()\n",
    "        reward += SCORE_MULTIPLIER * (self.score - prev_score)\n",
    "        self._show_debug_time(\"Get score\")\n",
    "        \n",
    "        # See if we ran the distance set by the goal\n",
    "        if self.score >= GOAL_MARKER:\n",
    "            reward += GOAL_REWARD\n",
    "            terminated = True\n",
    "        else:\n",
    "        \n",
    "            # Check if done\n",
    "            terminated = self.get_done()\n",
    "            self._show_debug_time(\"Get done\")\n",
    "        \n",
    "        # Penalize agent for letting head drop below a given row to discourage \"scooting\"\n",
    "        head_row = self.get_head_row(frame_stack[-1])\n",
    "        if head_row > HEAD_HEIGHT_THRESHOLD:\n",
    "            reward += KNEEL_REWARD\n",
    "        self._show_debug_time(\"Get head row\")\n",
    "        \n",
    "        # Penalize agent for falling\n",
    "        if terminated:\n",
    "            reward += FALL_REWARD\n",
    "        \n",
    "        # Check if we've exceeded the time limit\n",
    "        elapsed_time = 0.0\n",
    "        truncated = False\n",
    "        if not terminated and self.timeout > 0.0:\n",
    "            elapsed_time = time.time() - self.start_time\n",
    "            if elapsed_time >= self.timeout:\n",
    "                truncated = True\n",
    "                \n",
    "        # Release all control keys if ending\n",
    "        if terminated or truncated:\n",
    "            self.keyboard.release('q')\n",
    "            self.keyboard.release('w')\n",
    "            self.keyboard.release('o')\n",
    "            self.keyboard.release('p')\n",
    "            \n",
    "        # Wait if needed to meet FPS limit\n",
    "        now = time.time()\n",
    "        if self.fps_limit > 0.0:\n",
    "            to_wait = (1 / self.fps_limit) - (now - self.timestamp)\n",
    "            if to_wait > 0:\n",
    "                time.sleep(to_wait)\n",
    "            \n",
    "        # Calculate FPS and slide average FPS window\n",
    "        now = time.time()\n",
    "        self.fps = 1 / (now - self.timestamp)\n",
    "        self.avg_fps_array = self.avg_fps_array[1:]\n",
    "        self.avg_fps_array.append(self.fps)\n",
    "        self.timestamp = now\n",
    "        \n",
    "        # Return auxiliary information for debugging\n",
    "        info = {'score': self.score, 'time': elapsed_time, 'fps': self.fps}\n",
    "        \n",
    "        # Done debugging time\n",
    "        self._show_debug_time(\"Final checks\")\n",
    "        if self.debug_time:\n",
    "            print(\"---\")\n",
    "\n",
    "        return frame_stack, reward, terminated, truncated, info\n",
    "    \n",
    "    # Visualize the game using OpenCV\n",
    "    def render(self, img, track_head=False):\n",
    "        if self.disp_scale > 0:\n",
    "            \n",
    "            # Draw tracking marker for head and threshold row\n",
    "            if track_head:\n",
    "                head_row = self.get_head_row(img)\n",
    "                head_col = int(img.shape[1] / 2)\n",
    "                img[head_row, head_col] = 255\n",
    "                img[HEAD_HEIGHT_THRESHOLD, ::3] = 255\n",
    "            \n",
    "            # Resize our game image to something that can be easily seen\n",
    "            disp_width = int(GAME_RESIZE_WIDTH * DISP_SCALE_FACTOR)\n",
    "            disp_height = int(GAME_RESIZE_HEIGHT * DISP_SCALE_FACTOR)\n",
    "            disp_img = cv2.resize(img, (disp_width, disp_height), interpolation=cv2.INTER_AREA)\n",
    "            \n",
    "            # Add FPS counter to image\n",
    "            if self.show_fps:\n",
    "                fps = self.get_avg_fps()\n",
    "                disp_img = cv2.putText(disp_img, \n",
    "                                       f\"fps: {fps:.1f}\", \n",
    "                                       (10, 25), \n",
    "                                       cv2.FONT_HERSHEY_SIMPLEX, \n",
    "                                       1, \n",
    "                                       (255), \n",
    "                                       2, \n",
    "                                       cv2.LINE_AA)\n",
    "                \n",
    "\n",
    "                \n",
    "            # Draw and wait 1 ms\n",
    "            cv2.imshow('Game Image', disp_img)\n",
    "            cv2.waitKey(1)\n",
    "    \n",
    "    # Restart the game\n",
    "    def reset(self):\n",
    "        \n",
    "        # Wait, move mouse to game window, click for focus\n",
    "        time.sleep(0.5)\n",
    "        self.mouse.position = RESTART_MOUSE_POS\n",
    "        self.mouse.press(pynput.mouse.Button.left)\n",
    "        self.mouse.release(pynput.mouse.Button.left)\n",
    "        \n",
    "        # Press 'r' to restart game\n",
    "        self.keyboard.press(RESTART_KEY)\n",
    "        time.sleep(ACTIONS_KEY_PRESS_TIME)\n",
    "        self.keyboard.release(RESTART_KEY)\n",
    "        \n",
    "        # Reset score and time\n",
    "        self.score = 0.0\n",
    "        if self.timeout > 0.0:\n",
    "            self.start_time = time.time()\n",
    "        \n",
    "        # Let the game restart before getting the first observation\n",
    "        time.sleep(0.3)\n",
    "        \n",
    "        # Reinitialize frame stack and get first observation of new game\n",
    "        self.frame_stack[:, :, :] = 0\n",
    "        frame_stack = self.get_observation()\n",
    "        \n",
    "        # Return auxiliary information for debugging\n",
    "        info = {'score': self.score, 'time': 0.0, 'fps': 0.0}\n",
    "        \n",
    "        return frame_stack, info\n",
    "    \n",
    "    # Close down the game: release keys, close OpenCV windows, end OCR context\n",
    "    def close(self):\n",
    "        self.keyboard.release('q')\n",
    "        self.keyboard.release('w')\n",
    "        self.keyboard.release('o')\n",
    "        self.keyboard.release('p')\n",
    "        cv2.destroyAllWindows()\n",
    "        ocr_api.End()\n",
    "    \n",
    "    # Get the part of the observation of the game that we want (e.g. crop, resize)\n",
    "    def get_observation(self):\n",
    "        \n",
    "        # Get screen grab and drop alpha channel\n",
    "        game_img = screen.grab(GAME_CROP)\n",
    "        game_img = np.array(game_img, dtype=DTYPE)[:, :, :3]\n",
    "\n",
    "        # Convert to grayscale and resize\n",
    "        game_img = cv2.cvtColor(game_img, cv2.COLOR_BGR2GRAY)\n",
    "        game_img = cv2.resize(game_img, (GAME_RESIZE_WIDTH, GAME_RESIZE_HEIGHT))\n",
    "        \n",
    "        # Add channel dimension first (in case you want RGB later)\n",
    "        game_img = np.reshape(game_img, (GAME_RESIZE_HEIGHT, GAME_RESIZE_WIDTH))\n",
    "        \n",
    "        # Roll frame stack and add image to the end\n",
    "        self.frame_stack = np.roll(self.frame_stack, -1, axis=-1)\n",
    "        self.frame_stack[:, :, -1] = game_img\n",
    "        \n",
    "        # Render\n",
    "        self.render(game_img, track_head=True)\n",
    "        \n",
    "        return self.frame_stack\n",
    "    \n",
    "    # Get the distance ran to use as a total score and to calculate rewards\n",
    "    def get_score(self):\n",
    "        \n",
    "        # Get screen grab and drop alpha channel\n",
    "        score_img = screen.grab(SCORE_CROP)\n",
    "        score_img = np.array(score_img)[:, :, :3]\n",
    "\n",
    "        # Resize, convert to grayscale, invert for fast OCR\n",
    "        score_img = cv2.cvtColor(score_img, cv2.COLOR_BGR2GRAY)\n",
    "        score_img = cv2.resize(score_img, (SCORE_RESIZE_WIDTH, SCORE_RESIZE_HEIGHT))\n",
    "        score_img = 255 - score_img\n",
    "        pil_img = Image.fromarray(score_img)\n",
    "\n",
    "        # Do OCR\n",
    "        ocr_str = \"\"\n",
    "        try:\n",
    "            self.ocr_api.SetImage(pil_img)\n",
    "            ocr_str = self.ocr_api.GetUTF8Text()\n",
    "        except:\n",
    "            print(\"ERROR: Could not perform OCR\")\n",
    "        \n",
    "        # Extract score as a number\n",
    "        score = 0.0\n",
    "        ocr_str = ocr_str.strip()\n",
    "        if ocr_str:\n",
    "            score_str = ocr_str.split()[0]\n",
    "            try:\n",
    "                score = float(float(score_str))\n",
    "            except ValueError:\n",
    "                pass\n",
    "        \n",
    "        return score\n",
    "    \n",
    "    # Get the row of the head\n",
    "    def get_head_row(self, img):\n",
    "        \n",
    "        # Give row of first dark pixel in likely head range\n",
    "        locs = np.where(img[HEAD_ROW_MIN:HEAD_ROW_MAX, :] < HEAD_PIXEL_THRESHOLD)\n",
    "        rows = np.sort(locs[0]) + HEAD_ROW_MIN\n",
    "        if rows.size > 0:\n",
    "            return rows[0]\n",
    "        else:\n",
    "            return -1\n",
    "    \n",
    "    # Get the done text using OCR\n",
    "    def get_done(self):\n",
    "        \n",
    "        # Get screen grab and drop alpha channel\n",
    "        done_img = screen.grab(DONE_CROP)\n",
    "        done_img = np.array(done_img)[:, :, :3]\n",
    "        \n",
    "        # Resize, convert to grayscale, invert for fast OCR\n",
    "        done_img = cv2.cvtColor(done_img, cv2.COLOR_BGR2GRAY)\n",
    "        done_img = cv2.resize(done_img, (SCORE_RESIZE_WIDTH, SCORE_RESIZE_HEIGHT))\n",
    "        pil_img = Image.fromarray(done_img)\n",
    "        \n",
    "        # Do OCR\n",
    "        ocr_str = \"\"\n",
    "        try:\n",
    "            self.ocr_api.SetImage(pil_img)\n",
    "            ocr_str = self.ocr_api.GetUTF8Text()\n",
    "        except:\n",
    "            print(\"ERROR: Could not perform OCR\")\n",
    "\n",
    "        # Extract done state as a boolean\n",
    "        done = False\n",
    "        ocr_str = ocr_str.strip()\n",
    "        if ocr_str:\n",
    "            done_str = ocr_str.split()[0].lower()\n",
    "            if done_str in GAME_OVER_STRINGS:\n",
    "                done = True\n",
    "                \n",
    "        return done\n",
    "    \n",
    "    # Get average FPS\n",
    "    def get_avg_fps(self):\n",
    "        return sum(self.avg_fps_array) / len(self.avg_fps_array)\n",
    "    \n",
    "    # Report time elapsed from environment start and time elapsed from last call\n",
    "    def _show_debug_time(self, msg=\"\"):\n",
    "        if self.debug_time:\n",
    "            debug_now = time.time()\n",
    "            print(f\"Timestamp: {(debug_now - self.debug_start_time):.2f} | \"\n",
    "                  f\"Since last: {(debug_now - self.debug_timestamp):.2f} | \"\n",
    "                  f\"{msg}\")\n",
    "            self.debug_timestamp = debug_now"
   ]
  },
  {
   "cell_type": "markdown",
   "id": "4750eb59-9fea-45de-a33a-901ef346f079",
   "metadata": {},
   "source": [
    "## Test gym Environment\n",
    "\n",
    "It's always a good idea to test your environment wrapper before training."
   ]
  },
  {
   "cell_type": "code",
   "execution_count": 30,
   "id": "67317941-9de8-424a-a330-888c9321d5ea",
   "metadata": {},
   "outputs": [],
   "source": [
    "# Create our environment with a timeout\n",
    "try:\n",
    "    env.close()\n",
    "except NameError:\n",
    "    pass\n",
    "env = WebGame(timeout=5.0, \n",
    "              disp_scale=2.0, \n",
    "              fps_limit=18,\n",
    "              show_fps=True, \n",
    "              debug_time=False)"
   ]
  },
  {
   "cell_type": "code",
   "execution_count": 32,
   "id": "e0836d4c-c364-4045-81b7-731a0374e5df",
   "metadata": {},
   "outputs": [
    {
     "name": "stdout",
     "output_type": "stream",
     "text": [
      "Score: 0.2\n",
      "Done: False\n",
      "Shape: (96, 96, 4)\n"
     ]
    },
    {
     "data": {
      "image/png": "[encoded data removed]",
      "text/plain": [
       "<Figure size 640x480 with 4 Axes>"
      ]
     },
     "metadata": {},
     "output_type": "display_data"
    }
   ],
   "source": [
    "### Test environment wrapper methods\n",
    "\n",
    "# Get current score\n",
    "print(f\"Score: {env.get_score()}\")\n",
    "\n",
    "# See if game is done\n",
    "print(f\"Done: {env.get_done()}\")\n",
    "\n",
    "# Capture a few frames\n",
    "for _ in range(GAME_FRAME_STACK_SIZE):\n",
    "    frame_stack = env.get_observation()\n",
    "    time.sleep(1.0)\n",
    "\n",
    "# Show frames\n",
    "print(f\"Shape: {frame_stack.shape}\")\n",
    "fig, axs = plt.subplots(1, GAME_FRAME_STACK_SIZE)\n",
    "for i in range(GAME_FRAME_STACK_SIZE):\n",
    "    axs[i].imshow(frame_stack[:, :, i], cmap='gray', vmin=0, vmax=255)"
   ]
  },
  {
   "cell_type": "code",
   "execution_count": 53,
   "id": "ae3b621e-15d1-4fb3-a89c-7ef9a340b2bc",
   "metadata": {},
   "outputs": [
    {
     "name": "stdout",
     "output_type": "stream",
     "text": [
      "Total reward for episode 0 is -102.80 | Average FPS: 12.8\n",
      "Total reward for episode 1 is -105.00 | Average FPS: 12.8\n",
      "Total reward for episode 2 is -101.60 | Average FPS: 12.8\n"
     ]
    }
   ],
   "source": [
    "### Test game loop\n",
    "\n",
    "debug = False\n",
    "\n",
    "# Do a few game loops\n",
    "for ep in range(3):\n",
    "    \n",
    "    # Initialize game\n",
    "    obs, info = env.reset()\n",
    "    terminated = False\n",
    "    truncated = False\n",
    "    total_reward = 0\n",
    "    \n",
    "    # Do a single game loop\n",
    "    while not terminated and not truncated:\n",
    "        obs, reward, terminated, truncated, info = env.step(env.action_space.sample())\n",
    "        total_reward += reward\n",
    "        if debug:\n",
    "            print(f\"Score: {info['score']}, Time: {info['time']}, FPS: {info['fps']}, \"\n",
    "                  f\"Terminated: {terminated}, Truncated: {truncated}\")\n",
    "        \n",
    "    # Show results\n",
    "    avg_fps = env.get_avg_fps()\n",
    "    print(f\"Total reward for episode {ep} is {total_reward:.2f} | Average FPS: {avg_fps:.1f}\")"
   ]
  },
  {
   "cell_type": "code",
   "execution_count": 34,
   "id": "37ad13a7-8912-4e61-83d1-f53f6e739ff8",
   "metadata": {},
   "outputs": [
    {
     "name": "stdout",
     "output_type": "stream",
     "text": [
      "Total reward for episode 0 is -99.40 | Average FPS: 12.7\n",
      "Total reward for episode 1 is -99.40 | Average FPS: 12.0\n",
      "Total reward for episode 2 is -99.40 | Average FPS: 11.8\n",
      "Total reward for episode 3 is -99.40 | Average FPS: 12.2\n",
      "Total reward for episode 4 is -99.40 | Average FPS: 11.9\n"
     ]
    }
   ],
   "source": [
    "# Test if game runs while lid is closed\n",
    "# Should receive consistent ~ -1 m scores\n",
    "\n",
    "time.sleep(2.0)\n",
    "\n",
    "num_tests = 5\n",
    "for ep in range(num_tests):\n",
    "    \n",
    "    # Initialize game\n",
    "    obs, info = env.reset()\n",
    "    terminated = False\n",
    "    truncated = False\n",
    "    total_reward = 0\n",
    "    action = 3\n",
    "    \n",
    "    # Do a single game loop\n",
    "    while not terminated and not truncated:\n",
    "        \n",
    "        # Hold 'o' to fall forward\n",
    "        obs, reward, terminated, truncated, info = env.step(action)\n",
    "        total_reward += reward\n",
    "        if debug:\n",
    "            print(f\"Score: {info['score']}, Time: {info['time']}, \"\n",
    "                  f\"Terminated: {terminated}, Truncated: {truncated}\")\n",
    "    # Show results\n",
    "    avg_fps = env.get_avg_fps()\n",
    "    print(f\"Total reward for episode {ep} is {total_reward:.2f} | Average FPS: {avg_fps:.1f}\")"
   ]
  },
  {
   "cell_type": "code",
   "execution_count": 35,
   "id": "e4077fec-0a83-48e7-8b2c-4b279790f24f",
   "metadata": {},
   "outputs": [],
   "source": [
    "# Final environment check to make sure it works with Stable-Baselines3\n",
    "env_checker.check_env(env)"
   ]
  },
  {
   "cell_type": "markdown",
   "id": "735a7fac-1a00-49f8-ac84-1e6c8ef98abf",
   "metadata": {
    "tags": []
   },
   "source": [
    "## Checkpoint callback\n",
    "\n",
    "We'll create a custom callback for Stable Baselines3 that saves the model every n steps. This helps us recover from an error, disconnect, or power loss."
   ]
  },
  {
   "cell_type": "code",
   "execution_count": 36,
   "id": "3ad7a9b2-4109-4ec5-9839-454fda10ccb6",
   "metadata": {},
   "outputs": [],
   "source": [
    "class SaveCheckpointCallback(BaseCallback):\n",
    "    \"\"\"\n",
    "    Save the model every ``check_freq`` steps\n",
    "    \n",
    "    More information: https://stable-baselines3.readthedocs.io/en/master/guide/callbacks.html\n",
    "    \"\"\"\n",
    "    \n",
    "    # Constructor\n",
    "    def __init__(self, check_freq, save_dir, verbose=1):\n",
    "        super(SaveCheckpointCallback, self).__init__(verbose)\n",
    "        self.check_freq = check_freq\n",
    "        self.save_dir = save_dir\n",
    "        \n",
    "    # Create directory for saving the models\n",
    "    def _init_callback(self):\n",
    "        if self.save_dir is not None:\n",
    "            os.makedirs(self.save_dir, exist_ok=True)\n",
    "            \n",
    "    # Save model every check_freq steps\n",
    "    def _on_step(self):\n",
    "        if self.n_calls % self.check_freq == 0:\n",
    "            model_path = os.path.join(self.save_dir, f\"model_{self.n_calls}\")\n",
    "            self.model.save(model_path)\n",
    "        return True"
   ]
  },
  {
   "cell_type": "code",
   "execution_count": 37,
   "id": "c3d3e2aa-535a-4601-bb8d-ddba38cdc810",
   "metadata": {},
   "outputs": [],
   "source": [
    "# Set up checkpoint callback\n",
    "checkpoint_callback = SaveCheckpointCallback(\n",
    "    check_freq=CHECKPOINT_FREQ, \n",
    "    save_dir=CHECKPOINT_DIR,\n",
    "    verbose=1\n",
    ")"
   ]
  },
  {
   "cell_type": "markdown",
   "id": "99571557-1569-46a3-ad12-c7a4c83e7cfa",
   "metadata": {},
   "source": [
    "## Custom logger\n",
    "\n",
    "I'm going to use Weights & Biases for logging so I can view the training progress remotely. See the [Logger documentation](https://stable-baselines3.readthedocs.io/en/master/common/logger.html) and [integration examples](https://github.com/DLR-RM/stable-baselines3/blob/master/docs/guide/integrations.rst) for how to create a custom writer.\n",
    "\n",
    "Feel free to use a different method for logging, such as TensorBoard. See [here](https://stable-baselines3.readthedocs.io/en/master/guide/tensorboard.html) for how to set up TensorBoard."
   ]
  },
  {
   "cell_type": "code",
   "execution_count": 38,
   "id": "122520ff-e391-4e89-bc20-ff7bb453bd44",
   "metadata": {},
   "outputs": [],
   "source": [
    "class WandBWriter(KVWriter):\n",
    "    \"\"\"\n",
    "    Log metrics to Weights & Biases when called by .learn()\n",
    "    \n",
    "    More info: https://stable-baselines3.readthedocs.io/en/master/_modules/stable_baselines3/common/logger.html#KVWriter\n",
    "    \"\"\"\n",
    "    \n",
    "    # Initialize run\n",
    "    def __init__(self, run, verbose=1):\n",
    "        super().__init__()\n",
    "        self.run = run\n",
    "        self.verbose = verbose\n",
    "\n",
    "    # Write metrics to W&B project\n",
    "    def write(self, \n",
    "              key_values: Dict[str, Any], \n",
    "              key_excluded: Dict[str, Union[str, Tuple[str, ...]]], \n",
    "              step: int = 0) -> None:\n",
    "        log_dict = {}\n",
    "        \n",
    "        # Go through each key/value pairs\n",
    "        for (key, value), (_, excluded) in zip(\n",
    "            sorted(key_values.items()), sorted(key_excluded.items())):\n",
    "            \n",
    "            if self.verbose >= 2:\n",
    "                print(f\"step={step} | {key} : {value} ({type(value)})\")\n",
    "            \n",
    "            # Skip excluded items\n",
    "            if excluded is not None and \"wandb\" in excluded:\n",
    "                continue\n",
    "                \n",
    "            # Log integers and floats\n",
    "            if isinstance(value, np.ScalarType):\n",
    "                if not isinstance(value, str):\n",
    "                    wandb.log(data={key: value}, step=step)\n",
    "                    log_dict[key] = value\n",
    "                \n",
    "        # Print to console\n",
    "        if self.verbose >= 1:\n",
    "            print(f\"Log for steps={step}\")\n",
    "            print(f\"--------------\")\n",
    "            for (key, value) in sorted(log_dict.items()):\n",
    "                print(f\"  {key}: {value}\")\n",
    "            print()\n",
    "                \n",
    "    # Close the W&B run\n",
    "    def close(self) -> None:\n",
    "        self.run.finish()"
   ]
  },
  {
   "cell_type": "code",
   "execution_count": 39,
   "id": "0db30a32-0807-4f5a-b38c-265aa44bb775",
   "metadata": {},
   "outputs": [
    {
     "name": "stderr",
     "output_type": "stream",
     "text": [
      "\u001b[34m\u001b[1mwandb\u001b[0m: Currently logged in as: \u001b[33mshawnhymel\u001b[0m. Use \u001b[1m`wandb login --relogin`\u001b[0m to force relogin\n"
     ]
    },
    {
     "data": {
      "text/plain": [
       "True"
      ]
     },
     "execution_count": 39,
     "metadata": {},
     "output_type": "execute_result"
    }
   ],
   "source": [
    "# Log in to Weights & Biases\n",
    "wandb.login()"
   ]
  },
  {
   "cell_type": "code",
   "execution_count": 55,
   "id": "a48c03a8-0b04-46a5-accb-e301009dceca",
   "metadata": {},
   "outputs": [
    {
     "data": {
      "text/html": [
       "wandb version 0.15.2 is available!  To upgrade, please run:\n",
       " $ pip install wandb --upgrade"
      ],
      "text/plain": [
       "<IPython.core.display.HTML object>"
      ]
     },
     "metadata": {},
     "output_type": "display_data"
    },
    {
     "data": {
      "text/html": [
       "Tracking run with wandb version 0.15.0"
      ],
      "text/plain": [
       "<IPython.core.display.HTML object>"
      ]
     },
     "metadata": {},
     "output_type": "display_data"
    },
    {
     "data": {
      "text/html": [
       "Run data is saved locally in <code>D:\\Projects\\GitHub\\qwop-ai\\wandb\\run-20230516_083515-bz0tw2pu</code>"
      ],
      "text/plain": [
       "<IPython.core.display.HTML object>"
      ]
     },
     "metadata": {},
     "output_type": "display_data"
    },
    {
     "data": {
      "text/html": [
       "Syncing run <strong><a href='https://wandb.ai/shawnhymel/qwop/runs/bz0tw2pu' target=\"_blank\">2023-05-16 14:35:15</a></strong> to <a href='https://wandb.ai/shawnhymel/qwop' target=\"_blank\">Weights & Biases</a> (<a href='https://wandb.me/run' target=\"_blank\">docs</a>)<br/>"
      ],
      "text/plain": [
       "<IPython.core.display.HTML object>"
      ]
     },
     "metadata": {},
     "output_type": "display_data"
    },
    {
     "data": {
      "text/html": [
       " View project at <a href='https://wandb.ai/shawnhymel/qwop' target=\"_blank\">https://wandb.ai/shawnhymel/qwop</a>"
      ],
      "text/plain": [
       "<IPython.core.display.HTML object>"
      ]
     },
     "metadata": {},
     "output_type": "display_data"
    },
    {
     "data": {
      "text/html": [
       " View run at <a href='https://wandb.ai/shawnhymel/qwop/runs/bz0tw2pu' target=\"_blank\">https://wandb.ai/shawnhymel/qwop/runs/bz0tw2pu</a>"
      ],
      "text/plain": [
       "<IPython.core.display.HTML object>"
      ]
     },
     "metadata": {},
     "output_type": "display_data"
    },
    {
     "name": "stdout",
     "output_type": "stream",
     "text": [
      "WandB run ID: bz0tw2pu\n",
      "WandB run name: 2023-05-16 14:35:15\n"
     ]
    }
   ],
   "source": [
    "# Create new W&B run\n",
    "config = {}\n",
    "dt = datetime.datetime.now(datetime.timezone.utc)\n",
    "dt = dt.replace(microsecond=0, tzinfo=None)\n",
    "run = wandb.init(project=WANDB_PROJECT, name=str(dt), config=config)\n",
    "\n",
    "# Print run info\n",
    "print(f\"WandB run ID: {run.id}\")\n",
    "print(f\"WandB run name: {run.name}\") "
   ]
  },
  {
   "cell_type": "code",
   "execution_count": 56,
   "id": "97feb0d2-9409-4fbd-9388-89e53b37882c",
   "metadata": {},
   "outputs": [],
   "source": [
    "# Set custom logger with our custom writer\n",
    "wandb_writer = WandBWriter(run, verbose=0)\n",
    "loggers = Logger(\n",
    "    folder=None,\n",
    "    output_formats=[wandb_writer]\n",
    ")"
   ]
  },
  {
   "cell_type": "markdown",
   "id": "dd3b5922-6030-4abb-8296-0d3dc73ce7f9",
   "metadata": {
    "tags": []
   },
   "source": [
    "## Train Model"
   ]
  },
  {
   "cell_type": "code",
   "execution_count": 57,
   "id": "67218cc3-c737-4205-b030-669711ddae12",
   "metadata": {},
   "outputs": [],
   "source": [
    "# Hyperparameters\n",
    "hparams = {\n",
    "    \"episode_timeout\": 300,             # 5 min episode timeout\n",
    "    \"fps_limit\": 15,                    # Is actually ~13 fps on Windows\n",
    "    \"learning_rate\": 0.0003,            # Default is 0.0003\n",
    "    \"steps_per_update\": 2048,           # Default is 2048\n",
    "    \"entropy_coefficient\": 0.0,         # Higher entropy encourages more exploration. Default is 0\n",
    "    \"total_timesteps\": 100_000,         # 100k steps at 13 fps is about 2 hours\n",
    "    \"num_actions\": len(ACTIONS_MAP),\n",
    "    \"model_name\": \"qwop_model_v06b\",\n",
    "    \"notes\": \"Curriculum from 6a, added kneeling penalty\"\n",
    "}\n",
    "\n",
    "# Log hyperparameters to W&B\n",
    "wandb.config.update(hparams)"
   ]
  },
  {
   "cell_type": "code",
   "execution_count": 58,
   "id": "48db5418-3b56-4ec6-89d0-66a984b7d755",
   "metadata": {},
   "outputs": [],
   "source": [
    "# Create our environment with a timeout for training\n",
    "try:\n",
    "    env.close()\n",
    "except NameError:\n",
    "    pass\n",
    "env = WebGame(timeout=hparams[\"episode_timeout\"],\n",
    "              disp_scale=DISP_SCALE_FACTOR,\n",
    "              fps_limit=hparams[\"fps_limit\"],\n",
    "              show_fps=True)"
   ]
  },
  {
   "cell_type": "code",
   "execution_count": 45,
   "id": "cc8dcdd2-9592-4ccc-90a2-160aaaefee99",
   "metadata": {},
   "outputs": [],
   "source": [
    "# Create model\n",
    "# More information: https://stable-baselines3.readthedocs.io/en/master/modules/ppo.html\n",
    "model = PPO('CnnPolicy', \n",
    "            env, \n",
    "            verbose=0,\n",
    "            learning_rate=hparams[\"learning_rate\"], \n",
    "            n_steps=hparams[\"steps_per_update\"],\n",
    "            ent_coef=hparams[\"entropy_coefficient\"])"
   ]
  },
  {
   "cell_type": "code",
   "execution_count": 59,
   "id": "0bbfd7bd-f03b-474b-9d3c-562ceb3234aa",
   "metadata": {},
   "outputs": [
    {
     "data": {
      "text/plain": [
       "<stable_baselines3.ppo.ppo.PPO at 0x26cb0a00730>"
      ]
     },
     "execution_count": 59,
     "metadata": {},
     "output_type": "execute_result"
    }
   ],
   "source": [
    "# Choo choo train!\n",
    "# total_timesteps: take at least this many steps, will st op on multiple of n_steps in PPO\n",
    "# Host tensorboard on LAN: tensorboard --host 0.0.0.0 --logdir logs\\PPO_n\n",
    "# (But note that we're using Weights & Biases for remote logging instead)\n",
    "# About logs: https://stable-baselines3.readthedocs.ioqqp/en/master/common/logger.html\n",
    "# About plots: https://medium.com/aureliantactics/understanding-ppo-plots-in-tensorboard-cbc3199b9ba2\n",
    "model.set_logger(loggers)\n",
    "model.learn(total_timesteps=hparams[\"total_timesteps\"], \n",
    "            callback=[checkpoint_callback])"
   ]
  },
  {
   "cell_type": "code",
   "execution_count": 49,
   "id": "6b301248-f7ba-4caa-b401-7c205924ed98",
   "metadata": {
    "tags": []
   },
   "outputs": [
    {
     "data": {
      "text/html": [
       "Waiting for W&B process to finish... <strong style=\"color:green\">(success).</strong>"
      ],
      "text/plain": [
       "<IPython.core.display.HTML object>"
      ]
     },
     "metadata": {},
     "output_type": "display_data"
    },
    {
     "data": {
      "application/vnd.jupyter.widget-view+json": {
       "model_id": "18867bcc655f430aba5024b0be2c7101",
       "version_major": 2,
       "version_minor": 0
      },
      "text/plain": [
       "VBox(children=(Label(value='0.001 MB of 0.006 MB uploaded (0.000 MB deduped)\\r'), FloatProgress(value=0.223552…"
      ]
     },
     "metadata": {},
     "output_type": "display_data"
    },
    {
     "data": {
      "text/html": [
       "<style>\n",
       "    table.wandb td:nth-child(1) { padding: 0 10px; text-align: left ; width: auto;} td:nth-child(2) {text-align: left ; width: 100%}\n",
       "    .wandb-row { display: flex; flex-direction: row; flex-wrap: wrap; justify-content: flex-start; width: 100% }\n",
       "    .wandb-col { display: flex; flex-direction: column; flex-basis: 100%; flex: 1; padding: 10px; }\n",
       "    </style>\n",
       "<div class=\"wandb-row\"><div class=\"wandb-col\"><h3>Run history:</h3><br/><table class=\"wandb\"><tr><td>rollout/ep_len_mean</td><td>▁▁▂▂▃▃▄▄▅▅▆▆▇▇█▇▇███▄▄▅▅▄▄▄▂▃▃▃▃▃▄▅▅▅▅▅▅</td></tr><tr><td>rollout/ep_rew_mean</td><td>▁▁▂▂▂▂▂▂▃▃▃▃▃▄▃▃▃▃▄▄▃▃▃▂▂▂▂▂▂▂▃▄▅▆▇█████</td></tr><tr><td>time/fps</td><td>▁▁▁▁████████████████████████████████████</td></tr><tr><td>time/iterations</td><td>▁▁▁▁▂▂▂▂▂▃▃▃▃▃▃▄▄▄▄▄▅▅▅▅▅▅▆▆▆▆▆▇▇▇▇▇▇███</td></tr><tr><td>time/time_elapsed</td><td>▁▁▁▂▂▂▂▂▂▃▃▃▃▃▃▄▄▄▄▄▅▅▅▅▅▅▆▆▆▆▆▇▇▇▇▇▇███</td></tr><tr><td>time/total_timesteps</td><td>▁▁▁▁▂▂▂▂▂▃▃▃▃▃▃▄▄▄▄▄▅▅▅▅▅▅▆▆▆▆▆▇▇▇▇▇▇███</td></tr><tr><td>train/approx_kl</td><td>▁▁▁▁▂▁▁▁▁▁▁▁▁▄▂▁▂▁▁▂▄▂▂▁▂▁▁█▂▁▁▂▂▃▂▂▂▂▂▃</td></tr><tr><td>train/clip_fraction</td><td>▆▅▄▂▃▅▃▄▃▃▃▃▁█▄▁▄▄▄▅▆▁▄▃▃▂▂▄▅▄▃▃▄▆▅▇▆▅▅▃</td></tr><tr><td>train/clip_range</td><td>▁▁▁▁▁▁▁▁▁▁▁▁▁▁▁▁▁▁▁▁▁▁▁▁▁▁▁▁▁▁▁▁▁▁▁▁▁▁▁▁</td></tr><tr><td>train/entropy_loss</td><td>▁▂▂▃▃▂▃▃▄▄▃▃█▅▆█▆▄▅▅▆█▆▆▇▇▆▆▅▅▅▆▅▆▄▄▅▅▅▇</td></tr><tr><td>train/explained_variance</td><td>▇▇▆▇█▇█▇▆▇█▆▅▇█▆█▇█▆███▇██▇█▇▇▅▇▇▇▇▁▇▇▅█</td></tr><tr><td>train/learning_rate</td><td>▁▁▁▁▁▁▁▁▁▁▁▁▁▁▁▁▁▁▁▁▁▁▁▁▁▁▁▁▁▁▁▁▁▁▁▁▁▁▁▁</td></tr><tr><td>train/loss</td><td>█▃▁▁▁▂▁▁▁▁▁▁▁▁▁▁▁▁▁▁▂▁▁▁▁▁▁▁▁▁▁▁▁▁▂▁▁▁▁▁</td></tr><tr><td>train/n_updates</td><td>▁▁▁▁▂▂▂▂▂▃▃▃▃▃▃▄▄▄▄▄▅▅▅▅▅▅▆▆▆▆▆▇▇▇▇▇▇███</td></tr><tr><td>train/policy_gradient_loss</td><td>█▆▆▄▄▅▅▄▃▃▄▄▃▇▂▄▄▅▃▄█▅▅▅▄▅▅▂▅▂▃▆▅▅▄▁▄▂▃▃</td></tr><tr><td>train/value_loss</td><td>█▄▁▁▁▂▁▂▁▁▁▁▁▂▁▁▁▁▁▁▃▁▁▁▁▁▁▁▁▁▁▁▁▁▁▁▁▁▁▁</td></tr></table><br/></div><div class=\"wandb-col\"><h3>Run summary:</h3><br/><table class=\"wandb\"><tr><td>rollout/ep_len_mean</td><td>713.31</td></tr><tr><td>rollout/ep_rew_mean</td><td>-19.697</td></tr><tr><td>time/fps</td><td>11</td></tr><tr><td>time/iterations</td><td>171</td></tr><tr><td>time/time_elapsed</td><td>30869</td></tr><tr><td>time/total_timesteps</td><td>350208</td></tr><tr><td>train/approx_kl</td><td>0.18458</td></tr><tr><td>train/clip_fraction</td><td>0.20645</td></tr><tr><td>train/clip_range</td><td>0.2</td></tr><tr><td>train/entropy_loss</td><td>-0.39565</td></tr><tr><td>train/explained_variance</td><td>0.68238</td></tr><tr><td>train/learning_rate</td><td>0.0003</td></tr><tr><td>train/loss</td><td>-0.02312</td></tr><tr><td>train/n_updates</td><td>1700</td></tr><tr><td>train/policy_gradient_loss</td><td>-0.01914</td></tr><tr><td>train/value_loss</td><td>0.21699</td></tr></table><br/></div></div>"
      ],
      "text/plain": [
       "<IPython.core.display.HTML object>"
      ]
     },
     "metadata": {},
     "output_type": "display_data"
    },
    {
     "data": {
      "text/html": [
       " View run <strong style=\"color:#cdcd00\">2023-05-16 04:21:22</strong> at: <a href='https://wandb.ai/shawnhymel/qwop/runs/2uzsl7fb' target=\"_blank\">https://wandb.ai/shawnhymel/qwop/runs/2uzsl7fb</a><br/>Synced 5 W&B file(s), 0 media file(s), 0 artifact file(s) and 0 other file(s)"
      ],
      "text/plain": [
       "<IPython.core.display.HTML object>"
      ]
     },
     "metadata": {},
     "output_type": "display_data"
    },
    {
     "data": {
      "text/html": [
       "Find logs at: <code>.\\wandb\\run-20230515_222122-2uzsl7fb\\logs</code>"
      ],
      "text/plain": [
       "<IPython.core.display.HTML object>"
      ]
     },
     "metadata": {},
     "output_type": "display_data"
    }
   ],
   "source": [
    "# Exit environment and close W&B run\n",
    "env.close()\n",
    "run.finish()"
   ]
  },
  {
   "cell_type": "code",
   "execution_count": 50,
   "id": "c18ba961-be85-409a-9d67-d9ffbfb10d4e",
   "metadata": {},
   "outputs": [],
   "source": [
    "# Save final model\n",
    "model.save(hparams[\"model_name\"])"
   ]
  },
  {
   "cell_type": "markdown",
   "id": "6b5f1f3b-1f4e-4853-b8b6-5c2f22b854db",
   "metadata": {},
   "source": [
    "## Test model"
   ]
  },
  {
   "cell_type": "code",
   "execution_count": 113,
   "id": "c1aa5e16-52f2-4aec-b10c-466114ca6a83",
   "metadata": {},
   "outputs": [],
   "source": [
    "# Create our environment for testing\n",
    "try:\n",
    "    env.close()\n",
    "except NameError:\n",
    "    pass\n",
    "env = WebGame(timeout=30.0, disp_scale=DISP_SCALE_FACTOR, show_fps=True)"
   ]
  },
  {
   "cell_type": "code",
   "execution_count": null,
   "id": "2e1c3e2e-3d47-4174-bf18-fd6f9f7a8a77",
   "metadata": {},
   "outputs": [],
   "source": [
    "# Load model (use final model or any checkpoint)\n",
    "model = PPO.load(\n",
    "    os.path.join(\".\", \"qwop_model_v03\"),\n",
    "    # os.path.join(\".\", hparams[\"model_name\"]), \n",
    "    env=env, \n",
    "    print_system_info=True\n",
    ")"
   ]
  },
  {
   "cell_type": "code",
   "execution_count": 60,
   "id": "52e74383-8d19-455b-8137-13e8b62a60b1",
   "metadata": {},
   "outputs": [
    {
     "ename": "KeyboardInterrupt",
     "evalue": "",
     "output_type": "error",
     "traceback": [
      "\u001b[1;31m---------------------------------------------------------------------------\u001b[0m",
      "\u001b[1;31mKeyboardInterrupt\u001b[0m                         Traceback (most recent call last)",
      "Cell \u001b[1;32mIn[60], line 14\u001b[0m\n\u001b[0;32m     12\u001b[0m \u001b[38;5;28;01mwhile\u001b[39;00m \u001b[38;5;129;01mnot\u001b[39;00m terminated \u001b[38;5;129;01mand\u001b[39;00m \u001b[38;5;129;01mnot\u001b[39;00m truncated:\n\u001b[0;32m     13\u001b[0m     action, _ \u001b[38;5;241m=\u001b[39m model\u001b[38;5;241m.\u001b[39mpredict(obs)\n\u001b[1;32m---> 14\u001b[0m     obs, reward, terminated, truncated, info \u001b[38;5;241m=\u001b[39m \u001b[43menv\u001b[49m\u001b[38;5;241;43m.\u001b[39;49m\u001b[43mstep\u001b[49m\u001b[43m(\u001b[49m\u001b[38;5;28;43mint\u001b[39;49m\u001b[43m(\u001b[49m\u001b[43maction\u001b[49m\u001b[43m)\u001b[49m\u001b[43m)\u001b[49m\n\u001b[0;32m     15\u001b[0m     total_reward \u001b[38;5;241m+\u001b[39m\u001b[38;5;241m=\u001b[39m reward\n\u001b[0;32m     16\u001b[0m     step_count \u001b[38;5;241m+\u001b[39m\u001b[38;5;241m=\u001b[39m \u001b[38;5;241m1\u001b[39m\n",
      "Cell \u001b[1;32mIn[52], line 125\u001b[0m, in \u001b[0;36mWebGame.step\u001b[1;34m(self, action)\u001b[0m\n\u001b[0;32m    121\u001b[0m     terminated \u001b[38;5;241m=\u001b[39m \u001b[38;5;28;01mTrue\u001b[39;00m\n\u001b[0;32m    122\u001b[0m \u001b[38;5;28;01melse\u001b[39;00m:\n\u001b[0;32m    123\u001b[0m \n\u001b[0;32m    124\u001b[0m     \u001b[38;5;66;03m# Check if done\u001b[39;00m\n\u001b[1;32m--> 125\u001b[0m     terminated \u001b[38;5;241m=\u001b[39m \u001b[38;5;28;43mself\u001b[39;49m\u001b[38;5;241;43m.\u001b[39;49m\u001b[43mget_done\u001b[49m\u001b[43m(\u001b[49m\u001b[43m)\u001b[49m\n\u001b[0;32m    126\u001b[0m     \u001b[38;5;28mself\u001b[39m\u001b[38;5;241m.\u001b[39m_show_debug_time(\u001b[38;5;124m\"\u001b[39m\u001b[38;5;124mGet done\u001b[39m\u001b[38;5;124m\"\u001b[39m)\n\u001b[0;32m    128\u001b[0m \u001b[38;5;66;03m# Penalize agent for letting head drop below a given row to discourage \"scooting\"\u001b[39;00m\n",
      "Cell \u001b[1;32mIn[52], line 322\u001b[0m, in \u001b[0;36mWebGame.get_done\u001b[1;34m(self)\u001b[0m\n\u001b[0;32m    319\u001b[0m \u001b[38;5;28;01mdef\u001b[39;00m \u001b[38;5;21mget_done\u001b[39m(\u001b[38;5;28mself\u001b[39m):\n\u001b[0;32m    320\u001b[0m     \n\u001b[0;32m    321\u001b[0m     \u001b[38;5;66;03m# Get screen grab and drop alpha channel\u001b[39;00m\n\u001b[1;32m--> 322\u001b[0m     done_img \u001b[38;5;241m=\u001b[39m \u001b[43mscreen\u001b[49m\u001b[38;5;241;43m.\u001b[39;49m\u001b[43mgrab\u001b[49m\u001b[43m(\u001b[49m\u001b[43mDONE_CROP\u001b[49m\u001b[43m)\u001b[49m\n\u001b[0;32m    323\u001b[0m     done_img \u001b[38;5;241m=\u001b[39m np\u001b[38;5;241m.\u001b[39marray(done_img)[:, :, :\u001b[38;5;241m3\u001b[39m]\n\u001b[0;32m    325\u001b[0m     \u001b[38;5;66;03m# Resize, convert to grayscale, invert for fast OCR\u001b[39;00m\n",
      "File \u001b[1;32m~\\anaconda3\\envs\\pytorch-gpu\\lib\\site-packages\\mss\\base.py:76\u001b[0m, in \u001b[0;36mMSSBase.grab\u001b[1;34m(self, monitor)\u001b[0m\n\u001b[0;32m     68\u001b[0m     monitor \u001b[38;5;241m=\u001b[39m {\n\u001b[0;32m     69\u001b[0m         \u001b[38;5;124m\"\u001b[39m\u001b[38;5;124mleft\u001b[39m\u001b[38;5;124m\"\u001b[39m: monitor[\u001b[38;5;241m0\u001b[39m],\n\u001b[0;32m     70\u001b[0m         \u001b[38;5;124m\"\u001b[39m\u001b[38;5;124mtop\u001b[39m\u001b[38;5;124m\"\u001b[39m: monitor[\u001b[38;5;241m1\u001b[39m],\n\u001b[0;32m     71\u001b[0m         \u001b[38;5;124m\"\u001b[39m\u001b[38;5;124mwidth\u001b[39m\u001b[38;5;124m\"\u001b[39m: monitor[\u001b[38;5;241m2\u001b[39m] \u001b[38;5;241m-\u001b[39m monitor[\u001b[38;5;241m0\u001b[39m],\n\u001b[0;32m     72\u001b[0m         \u001b[38;5;124m\"\u001b[39m\u001b[38;5;124mheight\u001b[39m\u001b[38;5;124m\"\u001b[39m: monitor[\u001b[38;5;241m3\u001b[39m] \u001b[38;5;241m-\u001b[39m monitor[\u001b[38;5;241m1\u001b[39m],\n\u001b[0;32m     73\u001b[0m     }\n\u001b[0;32m     75\u001b[0m \u001b[38;5;28;01mwith\u001b[39;00m lock:\n\u001b[1;32m---> 76\u001b[0m     \u001b[38;5;28;01mreturn\u001b[39;00m \u001b[38;5;28;43mself\u001b[39;49m\u001b[38;5;241;43m.\u001b[39;49m\u001b[43m_grab_impl\u001b[49m\u001b[43m(\u001b[49m\u001b[43mmonitor\u001b[49m\u001b[43m)\u001b[49m\n",
      "File \u001b[1;32m~\\anaconda3\\envs\\pytorch-gpu\\lib\\site-packages\\mss\\windows.py:267\u001b[0m, in \u001b[0;36mMSS._grab_impl\u001b[1;34m(self, monitor)\u001b[0m\n\u001b[0;32m    264\u001b[0m     MSS\u001b[38;5;241m.\u001b[39mbmp \u001b[38;5;241m=\u001b[39m \u001b[38;5;28mself\u001b[39m\u001b[38;5;241m.\u001b[39mgdi32\u001b[38;5;241m.\u001b[39mCreateCompatibleBitmap(srcdc, width, height)\n\u001b[0;32m    265\u001b[0m     \u001b[38;5;28mself\u001b[39m\u001b[38;5;241m.\u001b[39mgdi32\u001b[38;5;241m.\u001b[39mSelectObject(memdc, MSS\u001b[38;5;241m.\u001b[39mbmp)\n\u001b[1;32m--> 267\u001b[0m \u001b[38;5;28;43mself\u001b[39;49m\u001b[38;5;241;43m.\u001b[39;49m\u001b[43mgdi32\u001b[49m\u001b[38;5;241;43m.\u001b[39;49m\u001b[43mBitBlt\u001b[49m\u001b[43m(\u001b[49m\n\u001b[0;32m    268\u001b[0m \u001b[43m    \u001b[49m\u001b[43mmemdc\u001b[49m\u001b[43m,\u001b[49m\n\u001b[0;32m    269\u001b[0m \u001b[43m    \u001b[49m\u001b[38;5;241;43m0\u001b[39;49m\u001b[43m,\u001b[49m\n\u001b[0;32m    270\u001b[0m \u001b[43m    \u001b[49m\u001b[38;5;241;43m0\u001b[39;49m\u001b[43m,\u001b[49m\n\u001b[0;32m    271\u001b[0m \u001b[43m    \u001b[49m\u001b[43mwidth\u001b[49m\u001b[43m,\u001b[49m\n\u001b[0;32m    272\u001b[0m \u001b[43m    \u001b[49m\u001b[43mheight\u001b[49m\u001b[43m,\u001b[49m\n\u001b[0;32m    273\u001b[0m \u001b[43m    \u001b[49m\u001b[43msrcdc\u001b[49m\u001b[43m,\u001b[49m\n\u001b[0;32m    274\u001b[0m \u001b[43m    \u001b[49m\u001b[43mmonitor\u001b[49m\u001b[43m[\u001b[49m\u001b[38;5;124;43m\"\u001b[39;49m\u001b[38;5;124;43mleft\u001b[39;49m\u001b[38;5;124;43m\"\u001b[39;49m\u001b[43m]\u001b[49m\u001b[43m,\u001b[49m\n\u001b[0;32m    275\u001b[0m \u001b[43m    \u001b[49m\u001b[43mmonitor\u001b[49m\u001b[43m[\u001b[49m\u001b[38;5;124;43m\"\u001b[39;49m\u001b[38;5;124;43mtop\u001b[39;49m\u001b[38;5;124;43m\"\u001b[39;49m\u001b[43m]\u001b[49m\u001b[43m,\u001b[49m\n\u001b[0;32m    276\u001b[0m \u001b[43m    \u001b[49m\u001b[43mSRCCOPY\u001b[49m\u001b[43m \u001b[49m\u001b[38;5;241;43m|\u001b[39;49m\u001b[43m \u001b[49m\u001b[43mCAPTUREBLT\u001b[49m\u001b[43m,\u001b[49m\n\u001b[0;32m    277\u001b[0m \u001b[43m\u001b[49m\u001b[43m)\u001b[49m\n\u001b[0;32m    278\u001b[0m bits \u001b[38;5;241m=\u001b[39m \u001b[38;5;28mself\u001b[39m\u001b[38;5;241m.\u001b[39mgdi32\u001b[38;5;241m.\u001b[39mGetDIBits(\n\u001b[0;32m    279\u001b[0m     memdc, MSS\u001b[38;5;241m.\u001b[39mbmp, \u001b[38;5;241m0\u001b[39m, height, \u001b[38;5;28mself\u001b[39m\u001b[38;5;241m.\u001b[39m_data, \u001b[38;5;28mself\u001b[39m\u001b[38;5;241m.\u001b[39m_bmi, DIB_RGB_COLORS\n\u001b[0;32m    280\u001b[0m )\n\u001b[0;32m    281\u001b[0m \u001b[38;5;28;01mif\u001b[39;00m bits \u001b[38;5;241m!=\u001b[39m height:\n",
      "\u001b[1;31mKeyboardInterrupt\u001b[0m: "
     ]
    }
   ],
   "source": [
    "# Play game\n",
    "for ep in range(3):\n",
    "    \n",
    "    # Reset game\n",
    "    obs, info = env.reset()\n",
    "    terminated = False\n",
    "    truncated = False\n",
    "    total_reward = 0\n",
    "    step_count = 0\n",
    "    \n",
    "    # Perform actions based on observation and accumulate reward\n",
    "    while not terminated and not truncated:\n",
    "        action, _ = model.predict(obs)\n",
    "        obs, reward, terminated, truncated, info = env.step(int(action))\n",
    "        total_reward += reward\n",
    "        step_count += 1\n",
    "        \n",
    "    # Print total reward at the end of the episode\n",
    "    print(f\"Episode {ep} | Steps: {step_count}, Total reward: {total_reward}\")"
   ]
  },
  {
   "cell_type": "code",
   "execution_count": null,
   "id": "a6dea137-15f1-4954-89e8-fcd16269898b",
   "metadata": {},
   "outputs": [],
   "source": [
    "# We're done! Close the environment\n",
    "env.close()"
   ]
  },
  {
   "cell_type": "markdown",
   "id": "754caf2c-d149-4e96-ae34-31748c7d4ca9",
   "metadata": {},
   "source": [
    "## TODO:\n",
    "\n",
    " * Reward forward motion\n",
    " * Frame stacking\n",
    "   * Added, but PPO doesn't like it\n",
    "   * Probably need to squash (4, 36, 36, 1) to something like (36*4, 36, 1). Not sure. See: https://stable-baselines.readthedocs.io/en/master/guide/vec_envs.html#vecframestack"
   ]
  },
  {
   "cell_type": "code",
   "execution_count": null,
   "id": "c9a2ddb1-cbe5-4ff4-bb78-759812bb7ba4",
   "metadata": {},
   "outputs": [],
   "source": []
  }
 ],
 "metadata": {
  "kernelspec": {
   "display_name": "Python 3 (ipykernel)",
   "language": "python",
   "name": "python3"
  },
  "language_info": {
   "codemirror_mode": {
    "name": "ipython",
    "version": 3
   },
   "file_extension": ".py",
   "mimetype": "text/x-python",
   "name": "python",
   "nbconvert_exporter": "python",
   "pygments_lexer": "ipython3",
   "version": "3.10.10"
  }
 },
 "nbformat": 4,
 "nbformat_minor": 5
}
